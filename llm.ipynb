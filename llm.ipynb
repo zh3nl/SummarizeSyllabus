{
 "cells": [
  {
   "cell_type": "code",
   "execution_count": 71,
   "id": "initial_id",
   "metadata": {
    "collapsed": true,
    "ExecuteTime": {
     "end_time": "2025-01-11T21:46:53.804282Z",
     "start_time": "2025-01-11T21:46:53.799646Z"
    }
   },
   "outputs": [
    {
     "data": {
      "text/plain": "True"
     },
     "execution_count": 71,
     "metadata": {},
     "output_type": "execute_result"
    }
   ],
   "source": [
    "# Import necessary functions\n",
    "import os\n",
    "import aryn_sdk\n",
    "from aryn_sdk.partition import partition_file, draw_with_boxes, convert_image_element\n",
    "import json\n",
    "import pdf2image\n",
    "#from openai import OpenAI\n",
    "from pydantic import BaseModel\n",
    "#from openai.lib._parsing import type_to_response_format_param as pydantic_to_response_format\n",
    "#from google.colab import userdata\n",
    "from dotenv import load_dotenv\n",
    "load_dotenv()"
   ]
  },
  {
   "cell_type": "code",
   "outputs": [],
   "source": [
    "# Set your secrets in the colab notebook. Navigate to the left pane\n",
    "# and choose the key option to set your keys. Make sure to enable Notebook access\n",
    "\n",
    "# Visit https://www.aryn.ai/get-started to get a key.\n",
    "aryn_api_key = os.getenv('aryn_API_KEY')\n",
    "# Visit https://platform.openai.com/api-keys to get a key.\n",
    "openai_api_key = os.getenv('anthropic_API_KEY')"
   ],
   "metadata": {
    "collapsed": false,
    "ExecuteTime": {
     "end_time": "2025-01-11T21:46:53.807749Z",
     "start_time": "2025-01-11T21:46:53.804819Z"
    }
   },
   "id": "a13848294d9e796",
   "execution_count": 72
  },
  {
   "cell_type": "code",
   "outputs": [],
   "source": [
    "file_name = 'syllabus206.pdf'\n",
    "file = open(file_name, 'rb')\n",
    "\n",
    "#show the pdf\n",
    "#pdf2image.convert_from_path(file_name)[0]"
   ],
   "metadata": {
    "collapsed": false,
    "ExecuteTime": {
     "end_time": "2025-01-11T21:46:53.813497Z",
     "start_time": "2025-01-11T21:46:53.807749Z"
    }
   },
   "id": "d9d1f3428be7ea49",
   "execution_count": 73
  },
  {
   "cell_type": "code",
   "outputs": [
    {
     "name": "stderr",
     "output_type": "stream",
     "text": [
      "ArynPartitioner: T+   0.00: Server version aryn-partitioner-0.20241226.161207 Model version 1.4\n",
      "ArynPartitioner: T+   0.00: Received request with aryn_call_id=cc9a63f0-e0a2-445d-88ba-d68d2653e90c\n",
      "ArynPartitioner: T+   0.00: Waiting for scheduling\n",
      "ArynPartitioner: T+   0.00: Preprocessing document\n",
      "ArynPartitioner: T+   0.00: Done preprocessing document\n",
      "ArynPartitioner: T+   0.75: Completed work on page 2\n",
      "ArynPartitioner: T+   0.82: Completed work on page 1\n"
     ]
    }
   ],
   "source": [
    "## Make a call to the partitioning service and set extract_images to true.\n",
    "partitioned_file = partition_file(file, aryn_api_key, extract_images=True, extract_table_structure=True, use_ocr=True)\n",
    "\n",
    "# show the pdf with bounding boxes\n",
    "#draw_with_boxes(file_name, partitioned_file)[0]"
   ],
   "metadata": {
    "collapsed": false,
    "ExecuteTime": {
     "end_time": "2025-01-11T21:46:55.599535Z",
     "start_time": "2025-01-11T21:46:53.814504Z"
    }
   },
   "id": "959e01157fc8bb88",
   "execution_count": 74
  },
  {
   "cell_type": "code",
   "outputs": [
    {
     "name": "stdout",
     "output_type": "stream",
     "text": [
      "[{'type': 'Section-header', 'bbox': [0.28595584644990807, 0.09077858664772727, 0.7166172880284927, 0.12163728193803267], 'properties': {'score': 0.8352801203727722, 'page_number': 1}, 'text_representation': 'CS 206 - Scientific Computing'}, {'type': 'Text', 'bbox': [0.14615026137408088, 0.14065311778675427, 0.7507750028722426, 0.18089363791725852], 'properties': {'score': 0.7316327095031738, 'page_number': 1}, 'text_representation': \"Prof: Wayne Hayes (office: DBH4092), whayes@ uci.edu Office Hours: To be negotiated, or by appointment (don't be shy)\"}, {'type': 'Section-header', 'bbox': [0.1469548303940717, 0.20158973000266336, 0.814414852366728, 0.22124447909268466], 'properties': {'score': 0.30405187606811523, 'page_number': 1}, 'text_representation': 'Topics covered (subject to change with consent of professor + class)'}, {'type': 'Text', 'bbox': [0.1471503672880285, 0.22100622003728693, 0.8567066147748161, 0.34354655872691764], 'properties': {'score': 0.7956948280334473, 'page_number': 1}, 'text_representation': \"floating point numbers: representation, rounding errors and error propagation; Taylor series + truncation error; condition numbers; numerical differentiation; numerical quadrature + integration; solving linear systems; eigenvalues + eigenvectors; least squares fitting; nonlinear equations and optimization; bisection + Newton's method; Gradient descent; polynomial interpolation; numerical differential equations; chaos; Monte Carlo methods\"}, {'type': 'Section-header', 'bbox': [0.14774916704963234, 0.36450109308416195, 0.4681530043658088, 0.38478759765625], 'properties': {'score': 0.6019516587257385, 'page_number': 1}, 'text_representation': 'Grading Scheme and Due Dates:'}, {'type': 'table', 'bbox': [0.16357508042279412, 0.38420049493963065, 0.812750244140625, 0.48941933371803975], 'properties': {'score': 0.8303878307342529, 'title': None, 'columns': 2, 'rows': 3, 'page_number': 1}, 'text_representation': None, 'table': {'cells': [{'content': '6-8 Homework Assignments, due each week except the week we have the Midterm..', 'rows': [0], 'cols': [0], 'is_header': False, 'bbox': {'x1': 0.17063390395220587, 'y1': 0.38738231312144883, 'x2': 0.6435750804227941, 'y2': 0.42101867675781246}, 'properties': {}}, {'content': '40% total', 'rows': [0], 'cols': [1], 'is_header': False, 'bbox': {'x1': 0.6829868451286765, 'y1': 0.38738231312144883, 'x2': 0.7741633157169118, 'y2': 0.42101867675781246}, 'properties': {}}, {'content': 'Midterm: In class, date TBD', 'rows': [1], 'cols': [0], 'is_header': False, 'bbox': {'x1': 0.17063390395220587, 'y1': 0.4273823131214488, 'x2': 0.6435750804227941, 'y2': 0.44420049493963065}, 'properties': {}}, {'content': '20%', 'rows': [1], 'cols': [1], 'is_header': False, 'bbox': {'x1': 0.6829868451286765, 'y1': 0.4273823131214488, 'x2': 0.7741633157169118, 'y2': 0.44420049493963065}, 'properties': {}}, {'content': 'Final Project with write-up Due End of Exam Week', 'rows': [2], 'cols': [0], 'is_header': False, 'bbox': {'x1': 0.17063390395220587, 'y1': 0.44920049493963066, 'x2': 0.6435750804227941, 'y2': 0.4842004949396307}, 'properties': {}}, {'content': '40%', 'rows': [2], 'cols': [1], 'is_header': False, 'bbox': {'x1': 0.6829868451286765, 'y1': 0.44920049493963066, 'x2': 0.7741633157169118, 'y2': 0.4842004949396307}, 'properties': {}}], 'caption': None, 'num_rows': 3, 'num_cols': 2, 'column_headers': ['', '']}}, {'type': 'Section-header', 'bbox': [0.14764380062327664, 0.5103312544389205, 0.20142481186810662, 0.529570478959517], 'properties': {'score': 0.8721804618835449, 'page_number': 1}, 'text_representation': 'Text:'}, {'type': 'Text', 'bbox': [0.147037353515625, 0.5298668878728693, 0.838891170726103, 0.5697068647904829], 'properties': {'score': 0.8093136548995972, 'page_number': 1}, 'text_representation': 'Principles of Scientific Computing, by David Bindel + Jonathan Goodman Available legally for free as a PDF from the class website'}, {'type': 'Section-header', 'bbox': [0.14656432207892922, 0.5910040838068182, 0.4203317081227022, 0.6107209361683239], 'properties': {'score': 0.7870898246765137, 'page_number': 1}, 'text_representation': 'Late Policy for assignments'}, {'type': 'List-item', 'bbox': [0.1759626859777114, 0.6117034912109375, 0.6150477510340073, 0.6305557528409091], 'properties': {'score': 0.8639591336250305, 'page_number': 1}, 'text_representation': 'Assignments are due at the START of class'}, {'type': 'List-item', 'bbox': [0.17630922205307906, 0.6320821866122159, 0.828976260914522, 0.733449540571733], 'properties': {'score': 0.9221836924552917, 'page_number': 1}, 'text_representation': 'Most assignments have two parts: a programming part, whose code must be submitted on the command line from an ICS openlab computer using the command /home/cs206/bin/submit; anything not code should be in a PDF and submitted to GradeScope.com'}, {'type': 'List-item', 'bbox': [0.17581537583295037, 0.7344780939275568, 0.8199421243106617, 0.7743391002308239], 'properties': {'score': 0.9098633527755737, 'page_number': 1}, 'text_representation': 'Late penalty: increases by 10% each 24h period starting at the due date.'}, {'type': 'Section-header', 'bbox': [0.1469627290613511, 0.8031309370561079, 0.36828764073988973, 0.8242036576704546], 'properties': {'score': 0.893144428730011, 'page_number': 1}, 'text_representation': 'Regrading requests'}, {'type': 'Text', 'bbox': [0.14663576911477483, 0.8250022194602272, 0.8449393238740809, 0.9049875710227273], 'properties': {'score': 0.9358499646186829, 'page_number': 1}, 'text_representation': 'All requests for regrading must be submitted in writing with an explanation. of why you think you should get more marks. Comparisons with the grades of other students in the class are allowed but in this case both assignments. must be handed in for regrading. In any case, the entire assignment will be'}, {'type': 'Text', 'bbox': [0.14550691492417278, 0.0926194277676669, 0.833485107421875, 0.13118309714577414], 'properties': {'score': 0.9245396256446838, 'page_number': 2}, 'text_representation': 'regraded; thus, you risk losing marks in other places where the grader may have been generous, even if your case has merit.'}, {'type': 'Section-header', 'bbox': [0.14773277731502757, 0.18072221235795455, 0.4130202708524816, 0.20389372392134233], 'properties': {'score': 0.8936420679092407, 'page_number': 2}, 'text_representation': 'Academic dishonesty'}, {'type': 'Text', 'bbox': [0.1467813289866728, 0.20539180408824573, 0.85830078125, 0.42763416637073864], 'properties': {'score': 0.9345657825469971, 'page_number': 2}, 'text_representation': \"Academic dishonesty will not be tolerated in any form. You may discuss ideas with your classmates (and others), but no written notes should be taken away from such discussions. All work you hand in must be your own. This course strictly adheres to all relevant University and ICS policies. It is each student's responsibility to be aware of these policies. To this end, all. students are advised to (re)read the UCI Academic Senate Policy on Academic Honesty, noting in particular that any single incident of student. academic dishonesty in this course is sufficient to merit a failing grade in the course with a letter of explanation being placed in the student's file. The Academic Honesty Policy for Information & Computer Science also applies to this course and deals explicitly with course work involving computers.\"}, {'type': 'Text', 'bbox': [0.14595967909869026, 0.4503070068359375, 0.8100453096277573, 0.4893964177911932], 'properties': {'score': 0.9325682520866394, 'page_number': 2}, 'text_representation': 'If you are unsure whether certain behavior is acceptable, ask before you engage in it.'}]\n"
     ]
    }
   ],
   "source": [
    "## Walk over the image elements in the returned JSON and show the first one\n",
    "data = partitioned_file['elements']\n",
    "print(data)"
   ],
   "metadata": {
    "collapsed": false,
    "ExecuteTime": {
     "end_time": "2025-01-11T21:46:55.602958Z",
     "start_time": "2025-01-11T21:46:55.599535Z"
    }
   },
   "id": "bd823adf2893667a",
   "execution_count": 75
  },
  {
   "cell_type": "code",
   "outputs": [],
   "source": [
    "# Pydantic models used to form response_format parameter to anthropic\n",
    "class description(BaseModel):\n",
    "    image_title: str\n",
    "    image_description: str\n",
    "\n",
    "class diagram_response(BaseModel):\n",
    "    steps: list[description]"
   ],
   "metadata": {
    "collapsed": false,
    "ExecuteTime": {
     "end_time": "2025-01-11T21:46:55.608446Z",
     "start_time": "2025-01-11T21:46:55.602958Z"
    }
   },
   "id": "31696c02ccee44b0",
   "execution_count": 76
  },
  {
   "cell_type": "code",
   "outputs": [],
   "source": [
    "diagram_response_schema = diagram_response.model_json_schema()\n",
    "\n",
    "tools = [\n",
    "    {\n",
    "        \"name\": \"build_description_result\",\n",
    "        \"description\": \"build the description object\",\n",
    "        \"input_schema\": diagram_response_schema\n",
    "    }\n",
    "]"
   ],
   "metadata": {
    "collapsed": false,
    "ExecuteTime": {
     "end_time": "2025-01-11T21:46:55.613257Z",
     "start_time": "2025-01-11T21:46:55.608446Z"
    }
   },
   "id": "e44dfd9fee23ced3",
   "execution_count": 77
  },
  {
   "cell_type": "code",
   "outputs": [
    {
     "name": "stdout",
     "output_type": "stream",
     "text": [
      "[{'type': 'Section-header', 'bbox': [0.28595584644990807, 0.09077858664772727, 0.7166172880284927, 0.12163728193803267], 'properties': {'score': 0.8352801203727722, 'page_number': 1}, 'text_representation': 'CS 206 - Scientific Computing'}, {'type': 'Text', 'bbox': [0.14615026137408088, 0.14065311778675427, 0.7507750028722426, 0.18089363791725852], 'properties': {'score': 0.7316327095031738, 'page_number': 1}, 'text_representation': \"Prof: Wayne Hayes (office: DBH4092), whayes@ uci.edu Office Hours: To be negotiated, or by appointment (don't be shy)\"}, {'type': 'Section-header', 'bbox': [0.1469548303940717, 0.20158973000266336, 0.814414852366728, 0.22124447909268466], 'properties': {'score': 0.30405187606811523, 'page_number': 1}, 'text_representation': 'Topics covered (subject to change with consent of professor + class)'}, {'type': 'Text', 'bbox': [0.1471503672880285, 0.22100622003728693, 0.8567066147748161, 0.34354655872691764], 'properties': {'score': 0.7956948280334473, 'page_number': 1}, 'text_representation': \"floating point numbers: representation, rounding errors and error propagation; Taylor series + truncation error; condition numbers; numerical differentiation; numerical quadrature + integration; solving linear systems; eigenvalues + eigenvectors; least squares fitting; nonlinear equations and optimization; bisection + Newton's method; Gradient descent; polynomial interpolation; numerical differential equations; chaos; Monte Carlo methods\"}, {'type': 'Section-header', 'bbox': [0.14774916704963234, 0.36450109308416195, 0.4681530043658088, 0.38478759765625], 'properties': {'score': 0.6019516587257385, 'page_number': 1}, 'text_representation': 'Grading Scheme and Due Dates:'}, {'type': 'table', 'bbox': [0.16357508042279412, 0.38420049493963065, 0.812750244140625, 0.48941933371803975], 'properties': {'score': 0.8303878307342529, 'title': None, 'columns': 2, 'rows': 3, 'page_number': 1}, 'text_representation': None, 'table': {'cells': [{'content': '6-8 Homework Assignments, due each week except the week we have the Midterm..', 'rows': [0], 'cols': [0], 'is_header': False, 'bbox': {'x1': 0.17063390395220587, 'y1': 0.38738231312144883, 'x2': 0.6435750804227941, 'y2': 0.42101867675781246}, 'properties': {}}, {'content': '40% total', 'rows': [0], 'cols': [1], 'is_header': False, 'bbox': {'x1': 0.6829868451286765, 'y1': 0.38738231312144883, 'x2': 0.7741633157169118, 'y2': 0.42101867675781246}, 'properties': {}}, {'content': 'Midterm: In class, date TBD', 'rows': [1], 'cols': [0], 'is_header': False, 'bbox': {'x1': 0.17063390395220587, 'y1': 0.4273823131214488, 'x2': 0.6435750804227941, 'y2': 0.44420049493963065}, 'properties': {}}, {'content': '20%', 'rows': [1], 'cols': [1], 'is_header': False, 'bbox': {'x1': 0.6829868451286765, 'y1': 0.4273823131214488, 'x2': 0.7741633157169118, 'y2': 0.44420049493963065}, 'properties': {}}, {'content': 'Final Project with write-up Due End of Exam Week', 'rows': [2], 'cols': [0], 'is_header': False, 'bbox': {'x1': 0.17063390395220587, 'y1': 0.44920049493963066, 'x2': 0.6435750804227941, 'y2': 0.4842004949396307}, 'properties': {}}, {'content': '40%', 'rows': [2], 'cols': [1], 'is_header': False, 'bbox': {'x1': 0.6829868451286765, 'y1': 0.44920049493963066, 'x2': 0.7741633157169118, 'y2': 0.4842004949396307}, 'properties': {}}], 'caption': None, 'num_rows': 3, 'num_cols': 2, 'column_headers': ['', '']}}, {'type': 'Section-header', 'bbox': [0.14764380062327664, 0.5103312544389205, 0.20142481186810662, 0.529570478959517], 'properties': {'score': 0.8721804618835449, 'page_number': 1}, 'text_representation': 'Text:'}, {'type': 'Text', 'bbox': [0.147037353515625, 0.5298668878728693, 0.838891170726103, 0.5697068647904829], 'properties': {'score': 0.8093136548995972, 'page_number': 1}, 'text_representation': 'Principles of Scientific Computing, by David Bindel + Jonathan Goodman Available legally for free as a PDF from the class website'}, {'type': 'Section-header', 'bbox': [0.14656432207892922, 0.5910040838068182, 0.4203317081227022, 0.6107209361683239], 'properties': {'score': 0.7870898246765137, 'page_number': 1}, 'text_representation': 'Late Policy for assignments'}, {'type': 'List-item', 'bbox': [0.1759626859777114, 0.6117034912109375, 0.6150477510340073, 0.6305557528409091], 'properties': {'score': 0.8639591336250305, 'page_number': 1}, 'text_representation': 'Assignments are due at the START of class'}, {'type': 'List-item', 'bbox': [0.17630922205307906, 0.6320821866122159, 0.828976260914522, 0.733449540571733], 'properties': {'score': 0.9221836924552917, 'page_number': 1}, 'text_representation': 'Most assignments have two parts: a programming part, whose code must be submitted on the command line from an ICS openlab computer using the command /home/cs206/bin/submit; anything not code should be in a PDF and submitted to GradeScope.com'}, {'type': 'List-item', 'bbox': [0.17581537583295037, 0.7344780939275568, 0.8199421243106617, 0.7743391002308239], 'properties': {'score': 0.9098633527755737, 'page_number': 1}, 'text_representation': 'Late penalty: increases by 10% each 24h period starting at the due date.'}, {'type': 'Section-header', 'bbox': [0.1469627290613511, 0.8031309370561079, 0.36828764073988973, 0.8242036576704546], 'properties': {'score': 0.893144428730011, 'page_number': 1}, 'text_representation': 'Regrading requests'}, {'type': 'Text', 'bbox': [0.14663576911477483, 0.8250022194602272, 0.8449393238740809, 0.9049875710227273], 'properties': {'score': 0.9358499646186829, 'page_number': 1}, 'text_representation': 'All requests for regrading must be submitted in writing with an explanation. of why you think you should get more marks. Comparisons with the grades of other students in the class are allowed but in this case both assignments. must be handed in for regrading. In any case, the entire assignment will be'}, {'type': 'Text', 'bbox': [0.14550691492417278, 0.0926194277676669, 0.833485107421875, 0.13118309714577414], 'properties': {'score': 0.9245396256446838, 'page_number': 2}, 'text_representation': 'regraded; thus, you risk losing marks in other places where the grader may have been generous, even if your case has merit.'}, {'type': 'Section-header', 'bbox': [0.14773277731502757, 0.18072221235795455, 0.4130202708524816, 0.20389372392134233], 'properties': {'score': 0.8936420679092407, 'page_number': 2}, 'text_representation': 'Academic dishonesty'}, {'type': 'Text', 'bbox': [0.1467813289866728, 0.20539180408824573, 0.85830078125, 0.42763416637073864], 'properties': {'score': 0.9345657825469971, 'page_number': 2}, 'text_representation': \"Academic dishonesty will not be tolerated in any form. You may discuss ideas with your classmates (and others), but no written notes should be taken away from such discussions. All work you hand in must be your own. This course strictly adheres to all relevant University and ICS policies. It is each student's responsibility to be aware of these policies. To this end, all. students are advised to (re)read the UCI Academic Senate Policy on Academic Honesty, noting in particular that any single incident of student. academic dishonesty in this course is sufficient to merit a failing grade in the course with a letter of explanation being placed in the student's file. The Academic Honesty Policy for Information & Computer Science also applies to this course and deals explicitly with course work involving computers.\"}, {'type': 'Text', 'bbox': [0.14595967909869026, 0.4503070068359375, 0.8100453096277573, 0.4893964177911932], 'properties': {'score': 0.9325682520866394, 'page_number': 2}, 'text_representation': 'If you are unsure whether certain behavior is acceptable, ask before you engage in it.'}]\n"
     ]
    }
   ],
   "source": [
    "def format_content(structured_content):\n",
    "    formatted_text = \"\"\n",
    "    for item in structured_content:\n",
    "        if item.get(\"type\") in [\"Section-header\", \"Text\", \"List-item\"]:\n",
    "            formatted_text += f\"{item['text_representation']}\\n\\n\"\n",
    "        elif item.get(\"type\") == \"table\":\n",
    "            formatted_text += \"Table:\\n\"\n",
    "            for cell in item['table']['cells']:\n",
    "                formatted_text += f\"{cell['content']} | \"\n",
    "            formatted_text += \"\\n\\n\"\n",
    "    return formatted_text\n",
    "\n",
    "formatted_content = format_content(data)\n",
    "print(data)"
   ],
   "metadata": {
    "collapsed": false,
    "ExecuteTime": {
     "end_time": "2025-01-11T21:46:55.617883Z",
     "start_time": "2025-01-11T21:46:55.613257Z"
    }
   },
   "id": "5288829e70f34f41",
   "execution_count": 78
  },
  {
   "cell_type": "code",
   "outputs": [
    {
     "name": "stdout",
     "output_type": "stream",
     "text": [
      "Message(id='msg_019Jadt9tt7Xyb1arCgod4EW', content=[ToolUseBlock(id='toolu_014EAeAExsDZyr6wU1GCyLbB', input={'steps': [{'image_title': 'Course Overview & Instructor', 'image_description': 'CS 206 - Scientific Computing is taught by Prof. Wayne Hayes (office: DBH4092). Office hours are negotiable and appointments are welcome.'}, {'image_title': 'Course Topics', 'image_description': \"The course covers comprehensive topics in scientific computing including: floating point numbers, Taylor series, condition numbers, numerical differentiation/integration, linear systems, eigenvalues, least squares fitting, optimization methods, Newton's method, gradient descent, interpolation, differential equations, chaos, and Monte Carlo methods.\"}, {'image_title': 'Grading Structure', 'image_description': 'The course grade is divided into three main components: 6-8 Homework Assignments (40%), Midterm Exam (20%), and Final Project with write-up (40%). Homework is due weekly except during midterm week.'}, {'image_title': 'Course Materials', 'image_description': \"The textbook 'Principles of Scientific Computing' by David Bindel and Jonathan Goodman is available as a free PDF from the class website.\"}, {'image_title': 'Assignment Submission Policy', 'image_description': 'Assignments have two components: programming code (submitted via command line on ICS openlab computers) and non-code materials (submitted as PDF to GradeScope.com). Late submissions incur a 10% penalty per 24-hour period.'}, {'image_title': 'Academic Integrity', 'image_description': 'The course maintains strict academic honesty policies aligned with UCI Academic Senate and ICS policies. While idea discussions are permitted, all submitted work must be original. Violations can result in course failure and documentation in student files.'}]}, name='build_description_result', type='tool_use')], model='claude-3-5-sonnet-20241022', role='assistant', stop_reason='tool_use', stop_sequence=None, type='message', usage=Usage(cache_creation_input_tokens=0, cache_read_input_tokens=0, input_tokens=1125, output_tokens=465))\n"
     ]
    }
   ],
   "source": [
    "import anthropic\n",
    "\n",
    "client = anthropic.Anthropic(api_key=openai_api_key)\n",
    "message = client.messages.create(\n",
    "    model=\"claude-3-5-sonnet-20241022\",\n",
    "    max_tokens=1024,\n",
    "    messages=[\n",
    "        {\n",
    "            \"role\": \"user\",\n",
    "            \"content\": [\n",
    "                # {\n",
    "                #     \"type\": \"text\",\n",
    "                #     \"source\": {\n",
    "                #         \"type\": \"text\",\n",
    "                #         \"media_type\": \"text\",\n",
    "                #         \"data\": f\"{formatted_content}\",\n",
    "                #     },\n",
    "                # },\n",
    "                {\n",
    "                    \"type\": \"text\",\n",
    "                    \"text\": f\"Describe this syllabus. {formatted_content}\"\n",
    "                }\n",
    "            ],\n",
    "        }\n",
    "    ],\n",
    "        tools=tools,\n",
    "        tool_choice={\"type\": \"tool\", \"name\": \"build_description_result\"}\n",
    "\n",
    ")\n",
    "print(message)\n"
   ],
   "metadata": {
    "collapsed": false,
    "ExecuteTime": {
     "end_time": "2025-01-11T21:47:02.540459Z",
     "start_time": "2025-01-11T21:46:55.618889Z"
    }
   },
   "id": "fbea8ccb7f1fb7c",
   "execution_count": 79
  },
  {
   "cell_type": "code",
   "outputs": [
    {
     "name": "stdout",
     "output_type": "stream",
     "text": [
      "{\n",
      "    \"steps\": [\n",
      "        {\n",
      "            \"image_title\": \"Course Overview & Instructor\",\n",
      "            \"image_description\": \"CS 206 - Scientific Computing is taught by Prof. Wayne Hayes (office: DBH4092). Office hours are negotiable and appointments are welcome.\"\n",
      "        },\n",
      "        {\n",
      "            \"image_title\": \"Course Topics\",\n",
      "            \"image_description\": \"The course covers comprehensive topics in scientific computing including: floating point numbers, Taylor series, condition numbers, numerical differentiation/integration, linear systems, eigenvalues, least squares fitting, optimization methods, Newton's method, gradient descent, interpolation, differential equations, chaos, and Monte Carlo methods.\"\n",
      "        },\n",
      "        {\n",
      "            \"image_title\": \"Grading Structure\",\n",
      "            \"image_description\": \"The course grade is divided into three main components: 6-8 Homework Assignments (40%), Midterm Exam (20%), and Final Project with write-up (40%). Homework is due weekly except during midterm week.\"\n",
      "        },\n",
      "        {\n",
      "            \"image_title\": \"Course Materials\",\n",
      "            \"image_description\": \"The textbook 'Principles of Scientific Computing' by David Bindel and Jonathan Goodman is available as a free PDF from the class website.\"\n",
      "        },\n",
      "        {\n",
      "            \"image_title\": \"Assignment Submission Policy\",\n",
      "            \"image_description\": \"Assignments have two components: programming code (submitted via command line on ICS openlab computers) and non-code materials (submitted as PDF to GradeScope.com). Late submissions incur a 10% penalty per 24-hour period.\"\n",
      "        },\n",
      "        {\n",
      "            \"image_title\": \"Academic Integrity\",\n",
      "            \"image_description\": \"The course maintains strict academic honesty policies aligned with UCI Academic Senate and ICS policies. While idea discussions are permitted, all submitted work must be original. Violations can result in course failure and documentation in student files.\"\n",
      "        }\n",
      "    ]\n",
      "}\n"
     ]
    }
   ],
   "source": [
    "print(json.dumps(message.content[0].input, indent=4))"
   ],
   "metadata": {
    "collapsed": false,
    "ExecuteTime": {
     "end_time": "2025-01-11T21:47:02.544666Z",
     "start_time": "2025-01-11T21:47:02.541465Z"
    }
   },
   "id": "4e7efd120c277e9c",
   "execution_count": 80
  },
  {
   "cell_type": "code",
   "outputs": [],
   "source": [],
   "metadata": {
    "collapsed": false,
    "ExecuteTime": {
     "end_time": "2025-01-11T21:47:02.547128Z",
     "start_time": "2025-01-11T21:47:02.544666Z"
    }
   },
   "id": "38e580571e5fd13b",
   "execution_count": 80
  }
 ],
 "metadata": {
  "kernelspec": {
   "display_name": "Python 3",
   "language": "python",
   "name": "python3"
  },
  "language_info": {
   "codemirror_mode": {
    "name": "ipython",
    "version": 2
   },
   "file_extension": ".py",
   "mimetype": "text/x-python",
   "name": "python",
   "nbconvert_exporter": "python",
   "pygments_lexer": "ipython2",
   "version": "2.7.6"
  }
 },
 "nbformat": 4,
 "nbformat_minor": 5
}

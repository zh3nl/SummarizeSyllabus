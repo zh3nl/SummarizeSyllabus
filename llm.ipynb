{
 "cells": [
  {
   "cell_type": "code",
   "execution_count": 13,
   "id": "initial_id",
   "metadata": {
    "collapsed": true,
    "ExecuteTime": {
     "end_time": "2025-01-11T20:38:32.758128Z",
     "start_time": "2025-01-11T20:38:32.753418Z"
    }
   },
   "outputs": [],
   "source": [
    "# Import necessary functions\n",
    "import os\n",
    "import aryn_sdk\n",
    "from aryn_sdk.partition import partition_file, draw_with_boxes, convert_image_element\n",
    "import json\n",
    "import pdf2image\n",
    "#from openai import OpenAI\n",
    "#from pydantic import BaseModel\n",
    "#from openai.lib._parsing import type_to_response_format_param as pydantic_to_response_format\n",
    "#from google.colab import userdata\n",
    "from dotenv import load_dotenv\n",
    "load_dotenv()"
   ]
  },
  {
   "cell_type": "code",
   "outputs": [
    {
     "name": "stdout",
     "output_type": "stream",
     "text": [
      "None None\n"
     ]
    }
   ],
   "source": [
    "# Set your secrets in the colab notebook. Navigate to the left pane\n",
    "# and choose the key option to set your keys. Make sure to enable Notebook access\n",
    "\n",
    "# Visit https://www.aryn.ai/get-started to get a key.\n",
    "aryn_api_key = os.getenv('aryn_API_KEY')\n",
    "# Visit https://platform.openai.com/api-keys to get a key.\n",
    "openai_api_key = os.getenv('anthropic_API_KEY')\n",
    "\n",
    "print(aryn_api_key, openai_api_key)"
   ],
   "metadata": {
    "collapsed": false,
    "ExecuteTime": {
     "end_time": "2025-01-11T20:41:54.482497Z",
     "start_time": "2025-01-11T20:41:54.476591Z"
    }
   },
   "id": "a13848294d9e796",
   "execution_count": 20
  },
  {
   "cell_type": "code",
   "outputs": [],
   "source": [
    "file_name = 'syllabus206.pdf'\n",
    "file = open(file_name, 'rb')\n",
    "\n",
    "#show the pdf\n",
    "# pdf2image.convert_from_path(file_name)[0]"
   ],
   "metadata": {
    "collapsed": false,
    "ExecuteTime": {
     "end_time": "2025-01-11T20:41:56.433130Z",
     "start_time": "2025-01-11T20:41:56.428563Z"
    }
   },
   "id": "d9d1f3428be7ea49",
   "execution_count": 21
  },
  {
   "cell_type": "code",
   "outputs": [
    {
     "ename": "HTTPError",
     "evalue": "Error: status_code: 400, reason: {\"detail\":\"Invalid API Key.\"}",
     "output_type": "error",
     "traceback": [
      "\u001B[1;31m---------------------------------------------------------------------------\u001B[0m",
      "\u001B[1;31mHTTPError\u001B[0m                                 Traceback (most recent call last)",
      "Cell \u001B[1;32mIn[16], line 2\u001B[0m\n\u001B[0;32m      1\u001B[0m \u001B[38;5;66;03m## Make a call to the partitioning service and set extract_images to true.\u001B[39;00m\n\u001B[1;32m----> 2\u001B[0m partitioned_file \u001B[38;5;241m=\u001B[39m \u001B[43mpartition_file\u001B[49m\u001B[43m(\u001B[49m\u001B[43mfile\u001B[49m\u001B[43m,\u001B[49m\u001B[43m \u001B[49m\u001B[43maryn_api_key\u001B[49m\u001B[43m,\u001B[49m\u001B[43m \u001B[49m\u001B[43mextract_images\u001B[49m\u001B[38;5;241;43m=\u001B[39;49m\u001B[38;5;28;43;01mTrue\u001B[39;49;00m\u001B[43m,\u001B[49m\u001B[43m \u001B[49m\u001B[43mextract_table_structure\u001B[49m\u001B[38;5;241;43m=\u001B[39;49m\u001B[38;5;28;43;01mTrue\u001B[39;49;00m\u001B[43m,\u001B[49m\u001B[43m \u001B[49m\u001B[43muse_ocr\u001B[49m\u001B[38;5;241;43m=\u001B[39;49m\u001B[38;5;28;43;01mTrue\u001B[39;49;00m\u001B[43m)\u001B[49m\n\u001B[0;32m      4\u001B[0m \u001B[38;5;66;03m# show the pdf with bounding boxes\u001B[39;00m\n\u001B[0;32m      5\u001B[0m draw_with_boxes(file_name, partitioned_file)[\u001B[38;5;241m0\u001B[39m]\n",
      "File \u001B[1;32m~\\AppData\\Local\\Programs\\Python\\Python312\\Lib\\site-packages\\aryn_sdk\\partition\\partition.py:172\u001B[0m, in \u001B[0;36mpartition_file\u001B[1;34m(file, aryn_api_key, aryn_config, threshold, use_ocr, ocr_images, extract_table_structure, table_extraction_options, extract_images, selected_pages, chunking_options, aps_url, docparse_url, ssl_verify, output_format, output_label_options)\u001B[0m\n\u001B[0;32m    169\u001B[0m resp \u001B[38;5;241m=\u001B[39m requests\u001B[38;5;241m.\u001B[39mpost(docparse_url, files\u001B[38;5;241m=\u001B[39mfiles, headers\u001B[38;5;241m=\u001B[39mhttp_header, stream\u001B[38;5;241m=\u001B[39mstream, verify\u001B[38;5;241m=\u001B[39mssl_verify)\n\u001B[0;32m    171\u001B[0m \u001B[38;5;28;01mif\u001B[39;00m resp\u001B[38;5;241m.\u001B[39mstatus_code \u001B[38;5;241m!=\u001B[39m \u001B[38;5;241m200\u001B[39m:\n\u001B[1;32m--> 172\u001B[0m     \u001B[38;5;28;01mraise\u001B[39;00m requests\u001B[38;5;241m.\u001B[39mexceptions\u001B[38;5;241m.\u001B[39mHTTPError(\n\u001B[0;32m    173\u001B[0m         \u001B[38;5;124mf\u001B[39m\u001B[38;5;124m\"\u001B[39m\u001B[38;5;124mError: status_code: \u001B[39m\u001B[38;5;132;01m{\u001B[39;00mresp\u001B[38;5;241m.\u001B[39mstatus_code\u001B[38;5;132;01m}\u001B[39;00m\u001B[38;5;124m, reason: \u001B[39m\u001B[38;5;132;01m{\u001B[39;00mresp\u001B[38;5;241m.\u001B[39mtext\u001B[38;5;132;01m}\u001B[39;00m\u001B[38;5;124m\"\u001B[39m, response\u001B[38;5;241m=\u001B[39mresp\n\u001B[0;32m    174\u001B[0m     )\n\u001B[0;32m    176\u001B[0m content \u001B[38;5;241m=\u001B[39m []\n\u001B[0;32m    177\u001B[0m partial_line \u001B[38;5;241m=\u001B[39m []\n",
      "\u001B[1;31mHTTPError\u001B[0m: Error: status_code: 400, reason: {\"detail\":\"Invalid API Key.\"}"
     ]
    }
   ],
   "source": [
    "## Make a call to the partitioning service and set extract_images to true.\n",
    "partitioned_file = partition_file(file, aryn_api_key, extract_images=True, extract_table_structure=True, use_ocr=True)\n",
    "\n",
    "# show the pdf with bounding boxes\n",
    "draw_with_boxes(file_name, partitioned_file)[0]"
   ],
   "metadata": {
    "collapsed": false,
    "ExecuteTime": {
     "end_time": "2025-01-11T20:39:54.117030Z",
     "start_time": "2025-01-11T20:39:53.415116Z"
    }
   },
   "id": "959e01157fc8bb88",
   "execution_count": 16
  },
  {
   "cell_type": "code",
   "outputs": [],
   "source": [],
   "metadata": {
    "collapsed": false
   },
   "id": "bd823adf2893667a"
  }
 ],
 "metadata": {
  "kernelspec": {
   "display_name": "Python 3",
   "language": "python",
   "name": "python3"
  },
  "language_info": {
   "codemirror_mode": {
    "name": "ipython",
    "version": 2
   },
   "file_extension": ".py",
   "mimetype": "text/x-python",
   "name": "python",
   "nbconvert_exporter": "python",
   "pygments_lexer": "ipython2",
   "version": "2.7.6"
  }
 },
 "nbformat": 4,
 "nbformat_minor": 5
}

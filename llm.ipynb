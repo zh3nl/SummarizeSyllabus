{
 "cells": [
  {
   "cell_type": "code",
   "execution_count": 1,
   "id": "initial_id",
   "metadata": {
    "collapsed": true,
    "ExecuteTime": {
     "end_time": "2025-01-12T01:26:44.831090Z",
     "start_time": "2025-01-12T01:26:43.211003Z"
    }
   },
   "outputs": [
    {
     "data": {
      "text/plain": "True"
     },
     "execution_count": 1,
     "metadata": {},
     "output_type": "execute_result"
    }
   ],
   "source": [
    "# Import necessary functions\n",
    "import os\n",
    "import aryn_sdk\n",
    "from aryn_sdk.partition import partition_file, draw_with_boxes, convert_image_element\n",
    "import json\n",
    "import pdf2image\n",
    "#from openai import OpenAI\n",
    "from pydantic import BaseModel\n",
    "#from openai.lib._parsing import type_to_response_format_param as pydantic_to_response_format\n",
    "#from google.colab import userdata\n",
    "from dotenv import load_dotenv\n",
    "load_dotenv()"
   ]
  },
  {
   "cell_type": "code",
   "outputs": [],
   "source": [
    "# Set your secrets in the colab notebook. Navigate to the left pane\n",
    "# and choose the key option to set your keys. Make sure to enable Notebook access\n",
    "\n",
    "# Visit https://www.aryn.ai/get-started to get a key.\n",
    "aryn_api_key = os.getenv('aryn_API_KEY')\n",
    "# Visit https://platform.openai.com/api-keys to get a key.\n",
    "openai_api_key = os.getenv('anthropic_API_KEY')"
   ],
   "metadata": {
    "collapsed": false,
    "ExecuteTime": {
     "end_time": "2025-01-12T01:26:44.837581Z",
     "start_time": "2025-01-12T01:26:44.833828Z"
    }
   },
   "id": "a13848294d9e796",
   "execution_count": 2
  },
  {
   "cell_type": "code",
   "outputs": [],
   "source": [
    "file_name = 'syllabus122.pdf'\n",
    "file = open(file_name, 'rb')\n",
    "\n",
    "#show the pdf\n",
    "#pdf2image.convert_from_path(file_name)[0]"
   ],
   "metadata": {
    "collapsed": false,
    "ExecuteTime": {
     "end_time": "2025-01-12T01:26:44.845113Z",
     "start_time": "2025-01-12T01:26:44.840606Z"
    }
   },
   "id": "d9d1f3428be7ea49",
   "execution_count": 3
  },
  {
   "cell_type": "code",
   "outputs": [
    {
     "name": "stderr",
     "output_type": "stream",
     "text": [
      "ArynPartitioner: T+   0.00: Server version aryn-partitioner-0.20241226.161207 Model version 1.4\n",
      "ArynPartitioner: T+   0.00: Received request with aryn_call_id=a5abebb6-38c3-4a0d-ba8f-41b4ee91b357\n",
      "ArynPartitioner: T+   0.00: Waiting for scheduling\n",
      "ArynPartitioner: T+   0.00: Preprocessing document\n",
      "ArynPartitioner: T+   0.00: Done preprocessing document\n",
      "ArynPartitioner: T+   1.01: Completed work on page 1\n",
      "ArynPartitioner: T+   1.23: Completed work on page 4\n",
      "ArynPartitioner: T+   1.66: Completed work on page 5\n",
      "ArynPartitioner: T+   1.87: Completed work on page 3\n",
      "ArynPartitioner: T+   2.08: Completed work on page 6\n",
      "ArynPartitioner: T+   2.34: Completed work on page 2\n"
     ]
    }
   ],
   "source": [
    "## Make a call to the partitioning service and set extract_images to true.\n",
    "partitioned_file = partition_file(file, aryn_api_key, extract_images=True, extract_table_structure=True, use_ocr=True)\n",
    "\n",
    "# show the pdf with bounding boxes\n",
    "#draw_with_boxes(file_name, partitioned_file)[0]"
   ],
   "metadata": {
    "collapsed": false,
    "ExecuteTime": {
     "end_time": "2025-01-12T01:26:48.553984Z",
     "start_time": "2025-01-12T01:26:44.847030Z"
    }
   },
   "id": "959e01157fc8bb88",
   "execution_count": 4
  },
  {
   "cell_type": "code",
   "outputs": [
    {
     "name": "stdout",
     "output_type": "stream",
     "text": [
      "[{'type': 'Section-header', 'bbox': [0.11799425012925092, 0.09089284723455256, 0.6248676614200368, 0.12518794666637073], 'properties': {'score': 0.4963124692440033, 'page_number': 1}, 'text_representation': 'CS 122A/EECS 116 Introduction to Data Management Winter 2025'}, {'type': 'Text', 'bbox': [0.11958067052504595, 0.12616450916637073, 0.5697048770680148, 0.14329833984375], 'properties': {'score': 0.360942542552948, 'page_number': 1}, 'text_representation': 'nstructor: Prof. Faisal Nawab <nawabfauci.edu.'}, {'type': 'Text', 'bbox': [0.17535136503331802, 0.14281638405539773, 0.6240349264705882, 0.16098384510387073], 'properties': {'score': 0.3371292054653168, 'page_number': 1}, 'text_representation': 'Office hours: Tuesdays 12:30 - 1:30PM, DBH 2088'}, {'type': 'List-item', 'bbox': [0.11930120131548713, 0.16028894597833807, 0.4921765495749081, 0.2651818570223722], 'properties': {'score': 0.5536366701126099, 'page_number': 1}, 'text_representation': 'TAs: Farzad Habibi <habibif@uci.edu> Jiadong Bal <jiadonqb@uci.edu> Keming Li <keminql1@uci.edu> Nada Lahjoujl <nlahjouj@uci.edu> Shiyuan Zhou <szhou20@uci.edu> Yinan Zhou <yinanz17@uci.edu>'}, {'type': 'Section-header', 'bbox': [0.12008129344267003, 0.2656635908647017, 0.26706410127527574, 0.2826925104314631], 'properties': {'score': 0.36692824959754944, 'page_number': 1}, 'text_representation': 'TA Office Hours:'}, {'type': 'Text', 'bbox': [0.17680583280675552, 0.28156524658203125, 0.6691709989659926, 0.3700722989169034], 'properties': {'score': 0.4693281352519989, 'page_number': 1}, 'text_representation': 'Monday: 9 - 10:30 am (ICS458A); 2 - 3 pm (TBD) Tuesday: 9 - 10:30 am (TBD) Wednesday: All discussion sessions are Office Hours Thursday: 9 - 10:30 am (ICS458B): 2:30 - 4 pm (TBD) Friday: 10 - 11:30 am , 2 - 3:30 pm (TBD)'}, {'type': 'Section-header', 'bbox': [0.11847792681525736, 0.3872224287553267, 0.5173215978285846, 0.4041011740944602], 'properties': {'score': 0.5024760961532593, 'page_number': 1}, 'text_representation': 'Lectures: TuTh 11AM-12:20PM HSLH 100A'}, {'type': 'Section-header', 'bbox': [0.11908556769875919, 0.405744795365767, 0.4921152630974265, 0.4227380648526278], 'properties': {'score': 0.4980583190917969, 'page_number': 1}, 'text_representation': 'Optional (highly Encouraged) textbook:'}, {'type': 'Text', 'bbox': [0.11927363676183364, 0.4228403819691051, 0.8728890452665441, 0.45717249090021306], 'properties': {'score': 0.7120099663734436, 'page_number': 1}, 'text_representation': 'Raghu Ramakrishnan & Johannes Gehrke, Database Management Systems 3rd Edition, McGraw-Hill 2012. ISBN-13: 978-0072465631, ISBN-10: 0072465638'}, {'type': 'Text', 'bbox': [0.1189662260167739, 0.4738741233132102, 0.8863600786994486, 0.579714189009233], 'properties': {'score': 0.8688485622406006, 'page_number': 1}, 'text_representation': 'Course Description: This course provides students with an introduction to the design. of databases and the use of database management systems in support of applications. Students will gain exposure to how relational database management systems are used. to manage an actual database. Time permitting, the course will also touch briefly on. advanced database management topics such as semi-structured data management and/or transactions.'}, {'type': 'Text', 'bbox': [0.1185529551786535, 0.597933183149858, 0.8877829159007353, 0.8326265647194603], 'properties': {'score': 0.9228013157844543, 'page_number': 1}, 'text_representation': 'This course is aimed at database design and the use of database management. systems in building database applications. It feeds into a follow-on project course, CS122B, whose focus is data-centric Web applications. The CS122A/B course sequence does NOT cover the internal workings of database systems; that material is. covered in the undergraduate course CS122C (or its graduate equivalent, CS222) and the graduate-level follow-on course Cs223. (The course textbook also delves further into that material for those students who are curious about what goes on under the. hood.) Interested students are strongly encouraged to take one, two, or all of these courses: CS122B and CS122c/Cs222 are independent, as each one requires only CS122A as their required database background. Also available as a new CS122A. follow-on course is CS1222D, whose focus is on new post-relational data management technologies, i.e., \"NoSQL\" databases and Big Data management platforms. Prerequisite(s): IC SCl 33 (with C or higher) OR EECS 114'}, {'type': 'Section-header', 'bbox': [0.118811133889591, 0.8469752086292613, 0.39004344267003677, 0.8631126819957387], 'properties': {'score': 0.7150630354881287, 'page_number': 1}, 'text_representation': 'Course Learning Objectives:'}, {'type': 'Text', 'bbox': [0.11780753640567555, 0.8652097389914772, 0.7291978544347426, 0.8810328813032671], 'properties': {'score': 0.7895420789718628, 'page_number': 1}, 'text_representation': 'After successful completion of this course, students should be able to'}, {'type': 'List-item', 'bbox': [0.17571330350988051, 0.09196724631569603, 0.7475545008042279, 0.10808170665394176], 'properties': {'score': 0.5919394493103027, 'page_number': 2}, 'text_representation': '1. Design and develop entity-relationship (E-R) for an application'}, {'type': 'List-item', 'bbox': [0.17503583122702207, 0.11142202897505327, 0.7856283030790441, 0.12670971957120028], 'properties': {'score': 0.5645559430122375, 'page_number': 2}, 'text_representation': '2. Utilize a relational data model and E-R desian to build DB relations'}, {'type': 'List-item', 'bbox': [0.1752086145737592, 0.13020044500177558, 0.6721414005055147, 0.14556876442649147], 'properties': {'score': 0.57465660572052, 'page_number': 2}, 'text_representation': '3. Discuss and apply relation database design principles'}, {'type': 'List-item', 'bbox': [0.17491155287798713, 0.14822092229669745, 0.8126180491727941, 0.16395172119140625], 'properties': {'score': 0.5991097092628479, 'page_number': 2}, 'text_representation': '4. Apply abstract query languages such as relational algebra to optimize'}, {'type': 'List-item', 'bbox': [0.14087015488568475, 0.16749657370827414, 0.8226024672564338, 0.20060596812855114], 'properties': {'score': 0.5956318974494934, 'page_number': 2}, 'text_representation': '5. Create and use industry-standard query language, SQL, to interact with DBs.'}, {'type': 'List-item', 'bbox': [0.17562602323644302, 0.20487627896395597, 0.6506275850183824, 0.2201665704900568], 'properties': {'score': 0.6569596529006958, 'page_number': 2}, 'text_representation': '6. Understand indexing and physical database design'}, {'type': 'Text', 'bbox': [0.11890131333295037, 0.2361599454012784, 0.8840784409466912, 0.3229092684659091], 'properties': {'score': 0.7663717865943909, 'page_number': 2}, 'text_representation': 'Course Organization: We will be utilizing Canvas, Gradescope, Google Drive, & EdDiscussion. Canvas will be the primary source of reference for course resources. EdDiscussion will be the main avenue of communication. Gooqle Docs and Drive wil be used to distribute assignments and associated materials. Gradescope will be used for homework submissions and returning graded assessments'}, {'type': 'List-item', 'bbox': [0.11761954812442556, 0.34262437300248577, 0.8838313562729779, 0.4120693692294034], 'properties': {'score': 0.5364081263542175, 'page_number': 2}, 'text_representation': 'Course Lecture attendance is expected and highly encouraged. Questions are. encouraqed. Generally, lectures may not be recorded or remotely accessible Students are responsible for all missed information in lectures, regardless of the. reason for absence.'}, {'type': 'List-item', 'bbox': [0.11814001644358915, 0.4269159212979403, 0.8840385885799632, 0.513974609375], 'properties': {'score': 0.5442053079605103, 'page_number': 2}, 'text_representation': 'Course Discussion will be drop-in TA assistance hours, similar to Office Hours, on most weeks. Students are encouraged to attend ANY of the scheduled discussion times to qain clarification or assistance on the course materials. If many students are in attendance the TA with review the topics for the group rather than answer questions 1-on-1.'}, {'type': 'List-item', 'bbox': [0.11789197136374081, 0.5287759121981535, 0.8839769789751838, 0.5804569868607955], 'properties': {'score': 0.5149338841438293, 'page_number': 2}, 'text_representation': 'Course Announcements will be posted to EdDiscussion and pinned to the top for the relevant period. All students are expected to read all course announcements. Check EdDiscussion regularly and adjust your email preferences accordingly..'}, {'type': 'Section-header', 'bbox': [0.4037271656709559, 0.6209948175603693, 0.6002636000689339, 0.6363330078125], 'properties': {'score': 0.8929538726806641, 'page_number': 2}, 'text_representation': 'Course Components'}, {'type': 'List-item', 'bbox': [0.11927959666532628, 0.6508619273792614, 0.8843166934742647, 0.7017654696377841], 'properties': {'score': 0.5369225740432739, 'page_number': 2}, 'text_representation': 'Homework Assignments (40%) are a main component of the course. The goal of these assignments is to apply the concepts from the modules to design, build, and use a database for a given application.'}, {'type': 'Text', 'bbox': [0.16373465145335478, 0.7108807373046875, 0.8857190659466911, 0.798582930131392], 'properties': {'score': 0.7235749959945679, 'page_number': 2}, 'text_representation': 'All assignments must be completed individually. Students may discuss the assignment itself (i.e. understanding of the assignment, general approach general concepts) with their peers/tutors/TAs but are to complete the work and specifics of the assignment themselves. Peer/Pair programming of the assignment will be considered academic dishonesty.'}, {'type': 'Text', 'bbox': [0.1628044756721048, 0.8072582452947443, 0.88492431640625, 0.8952275501598012], 'properties': {'score': 0.8657095432281494, 'page_number': 2}, 'text_representation': 'Offering and accepting any piece of code from another person (online or in. person) is an act of plagiarism, which is a serious offense and all involved. parties will be penalized according to the Academic Honesty Policy. General. discussion about the assignment itself or course concepts between students is encouraged. When in doubt, direct your questions to the professor, the TAs/senior'}, {'type': 'Text', 'bbox': [0.16234466552734375, 0.09218245072798295, 0.40724440630744485, 0.10770048661665484], 'properties': {'score': 0.6658411026000977, 'page_number': 3}, 'text_representation': 'tutors. and/or the lab tutors'}, {'type': 'Text', 'bbox': [0.16393694709329043, 0.11621600064364347, 0.8580087459788603, 0.15059789484197444], 'properties': {'score': 0.7574752569198608, 'page_number': 3}, 'text_representation': 'Up to 2 homework assignments will be accepted late (up to 24 hours after the deadline) without penalty. These will be referred to as Late passes.'}, {'type': 'Text', 'bbox': [0.16471054974724264, 0.159737548828125, 0.27809988582835476, 0.17422733653675426], 'properties': {'score': 0.49260205030441284, 'page_number': 3}, 'text_representation': 'Late passes:'}, {'type': 'List-item', 'bbox': [0.18775049546185663, 0.1884800165349787, 0.8440492158777574, 0.22186505404385654], 'properties': {'score': 0.8726943135261536, 'page_number': 3}, 'text_representation': ' are considered as used when an assignment is submitted within 24 hours after the original homework deadline'}, {'type': 'List-item', 'bbox': [0.18773426729090073, 0.23017167524857954, 0.792878848805147, 0.24553932883522728], 'properties': {'score': 0.5263038277626038, 'page_number': 3}, 'text_representation': ': cannot be stacked (i.e. more than 1 late pass may not be used for a'}, {'type': 'Text', 'bbox': [0.18902837416704962, 0.2540678267045455, 0.35937916475183823, 0.26979869495738634], 'properties': {'score': 0.5184505581855774, 'page_number': 3}, 'text_representation': 'single assignment)'}, {'type': 'Text', 'bbox': [0.1632536585190717, 0.2847181562943892, 0.8828779153262868, 0.3362476695667614], 'properties': {'score': 0.7540672421455383, 'page_number': 3}, 'text_representation': \"To use a late pass, solely submit your assignment within the 24-hour late period. It is the student's responsibility to track late pass usage via Gradescope or Canvas Gradebook.\"}, {'type': 'List-item', 'bbox': [0.11899256986730239, 0.3508483054421165, 0.8846576286764706, 0.4022033136541193], 'properties': {'score': 0.691623866558075, 'page_number': 3}, 'text_representation': 'Midterm Exams (2 midterms, 20% each) are held during lecture time. The midterm will focus on the material covered in the topics presented prior to the exam. The exams are timed, closed book, and closed notes.'}, {'type': 'List-item', 'bbox': [0.11954110538258272, 0.41684534246271304, 0.8856244973575368, 0.48642844460227275], 'properties': {'score': 0.7059532403945923, 'page_number': 3}, 'text_representation': 'Project (15%) The project will be a hands-on component of the course, performed in groups of 4 students. The purpose of the project is for students to apply the concepts they have learned in a project that mimics a real application of databases.'}, {'type': 'List-item', 'bbox': [0.11946988274069394, 0.50107421875, 0.8845374253216912, 0.5343574107776988], 'properties': {'score': 0.6613842248916626, 'page_number': 3}, 'text_representation': 'Participation (5%) Participation scores are based on attendance, participation in in-class discussions, and in-class worksheets/quizzes..'}, {'type': 'Text', 'bbox': [0.1183788434196921, 0.5654305197975852, 0.8864276482077206, 0.688157792524858], 'properties': {'score': 0.8429037928581238, 'page_number': 3}, 'text_representation': 'Course Grading: Final grades in the course are determined based on the total. weighted score. Individual metrics are not \"curved\". Letter grade cut-offs will be. determined based on overall student performance - never above the standard letter grade distributions (93+ A, 90-92.99 A-, 87-89.99 B+, etc). Cut-offs are determined. based on the student performance within the course offering, not based on the percentage or number of students per letter grade. This means if everyone does very. well, everyone will get an A!.'}, {'type': 'Text', 'bbox': [0.11970454496495864, 0.7076609663529829, 0.8527747300091911, 0.7589406516335228], 'properties': {'score': 0.8975009322166443, 'page_number': 3}, 'text_representation': 'Note that the course grading scheme may be modified during the quarter if an issue. with an overall lack of participation, widespread academic dishonesty, or disruptive extraneous circumstances emerge.'}, {'type': 'Text', 'bbox': [0.11875558292164522, 0.7749014004794034, 0.8837976792279412, 0.7907557262073863], 'properties': {'score': 0.32640063762664795, 'page_number': 3}, 'text_representation': 'Grading Concerns must be submitted within 7 days of the grade release (or shorter'}, {'type': 'Text', 'bbox': [0.16194323371438418, 0.7940783136541193, 0.8842822265625, 0.8989479203657671], 'properties': {'score': 0.39714083075523376, 'page_number': 3}, 'text_representation': 'for assignments/exams in the last week and finals week), per posted instructions After this period grading concerns will not be accepted and the assigned grade will be considered final. Grading concerns will be addressed as quickly as possible, but are subject to delay due to other grading. All grading concerns will be resolved before final grades are calculated. Any grading concern must include a detailed explanation of the specific grading issues and the reason for the believed'}, {'type': 'Text', 'bbox': [0.16297808478860293, 0.09270933671431109, 0.2556889971564798, 0.10764326615767046], 'properties': {'score': 0.4221964478492737, 'page_number': 4}, 'text_representation': 'correction.'}, {'type': 'List-item', 'bbox': [0.11889925788430607, 0.12361285122958096, 0.8848622759650735, 0.24850780140269887], 'properties': {'score': 0.4608491361141205, 'page_number': 4}, 'text_representation': 'EdDiscussion can be a useful tool for the course when used properly. For example, a question can be answered quickly by your classmates, the TAs, the Readers, and the Instructor. Rather than emailing your course or homework content questions to. the teaching staff, you will be expected to post your questions on EdDiscussion. However, it is important to use EdDiscussion constructively in order to create a valuable and supportive community. All students are expected to follow these guidelines:'}, {'type': 'List-item', 'bbox': [0.18776681339039522, 0.26399225408380683, 0.614495849609375, 0.2808920010653409], 'properties': {'score': 0.8963011503219604, 'page_number': 4}, 'text_representation': ' Create a descriptive summary of your question'}, {'type': 'List-item', 'bbox': [0.187940871294807, 0.2870785245028409, 0.870902889476103, 0.3217954323508523], 'properties': {'score': 0.9199259877204895, 'page_number': 4}, 'text_representation': ' Properly tag your post with the most appropriate tag(s) for the question. If an appropriate tag does not exist, use other..'}, {'type': 'List-item', 'bbox': [0.1874717981675092, 0.32819480202414775, 0.8834809426700367, 0.38111555619673293], 'properties': {'score': 0.9190102815628052, 'page_number': 4}, 'text_representation': ' Prior to posting a question, use the tags and the search box to find existing. question(s) that may answer your question. Avoid re-asking questions. Also. search the provided course resources for your answer prior to posting.'}, {'type': 'List-item', 'bbox': [0.18695727180032168, 0.3830433516068892, 0.8838338694852941, 0.5068275590376421], 'properties': {'score': 0.9149208068847656, 'page_number': 4}, 'text_representation': '. In the details of your question/post, be as specific and descriptive with your question as possible. Include a GENERIC example that illustrates your issue. EdDiscussion posts are not a place to discuss the finer details of answers to HW problems - in other words, it is not a place to post, request, or compare answers to specific problems! (Doing so would actually risk your violating the Academic Honesty Policy, as everyone is expected to ultimately do their own work.)'}, {'type': 'Text', 'bbox': [0.16413698084214154, 0.5148702170632102, 0.8846172018612133, 0.6036796985973011], 'properties': {'score': 0.8247262239456177, 'page_number': 4}, 'text_representation': 'Most importantly, EdDiscussion is a forum for course-related content, additional. learning, and assistance. If you have questions about assignments, technical. problems that need troubleshooting, or other questions that might be of interest to other students, they must be posted to EdDiscussion and not emailed to the. instructor or TA.'}, {'type': 'Text', 'bbox': [0.11888918708352482, 0.6168237859552557, 0.8856179630055147, 0.704839921431108], 'properties': {'score': 0.9025629758834839, 'page_number': 4}, 'text_representation': 'Academic Integrity: We encourage collaborative learning through discussion of assignment requirements and course concepts to enhance understanding of the course material and concepts. However, any submitted work for a grade must be the sole work of the student independently. Peer/Pair programming or jointly solutions on any graded component will be considered academic dishonesty.'}, {'type': 'Text', 'bbox': [0.11880102718577665, 0.7230005992542614, 0.8847203153722426, 0.8304296320134943], 'properties': {'score': 0.9164740443229675, 'page_number': 4}, 'text_representation': 'Offering and accepting any piece of work/code from another person (online or in person) is an act of plagiarism, which is a serious offense and all involved parties will be penalized according to the Academic Honesty Policy. Any evidence that code or solutions have been copied, shared, or transmitted in any way (this includes using source code downloaded from the Internet or written by others in previous semesters!) will be regarded as evidence of academic dishonesty.'}, {'type': 'Text', 'bbox': [0.1184147554285386, 0.8494870827414772, 0.8861867388556985, 0.9026001531427557], 'properties': {'score': 0.9170774221420288, 'page_number': 4}, 'text_representation': 'This course has a ZERO-tolerance policy on cheating. Violations of academic integrity will be referred to the Office of Academic Integrity and Student Conduct. Any student found to be involved in cheating or aiding others in doing so will be'}, {'type': 'Text', 'bbox': [0.11894324807559743, 0.09182591524991122, 0.8846141142003676, 0.16218833229758522], 'properties': {'score': 0.9433040618896484, 'page_number': 5}, 'text_representation': 'academically prosecuted to the maximum extent possible. Typically, this means failure. of the course in its entirety. All students will be expected to adhere to the UCl and ICS Academic Honesty policies (see UCl Academic Honesty Policy and ICs Academic. Honesty Policy to read their details)..'}, {'type': 'Text', 'bbox': [0.11854869169347426, 0.17745709505948154, 0.8843655215992647, 0.40915976784446023], 'properties': {'score': 0.9424859285354614, 'page_number': 5}, 'text_representation': \"Course Material Copyright: Lectures and course materials, including lecture notes. slides, presentations, quizzes, tests, exams, practice problems and solutions, and similar materials, are protected by copyright. Copyrighted course materials may not be further disseminated. Selling, preparing, or distributing for any commercial purpose course lecture notes or video or audio recordings of any course unless authorized by the University in advance and explicitly permitted by the course instructor in writing The unauthorized sale or commercial distribution of course notes or recordings by a. student is a violation of these Policies whether or not it was the student or someone. else who prepared the notes or recordings. This includes providing materials to commercial course material suppliers such as CourseHero and other similar services.. Students who publicly distribute, display, or help others publicly distribute or display. copies (or modi ed copies) of an instructor's course materials are in violation of UC's. 2005 policy on the Use of Recordings of Course Presentations.\"}, {'type': 'Text', 'bbox': [0.11865613151999081, 0.42785511363636364, 0.885002010569853, 0.5528347500887784], 'properties': {'score': 0.9456561207771301, 'page_number': 5}, 'text_representation': 'This course is provided by The University of California, which has policies regarding copyright. Materials used in connection with this course may be subject to copyright. protection. Refer to the information provided in each video/ le/module/unit for copyright. information for each work. The course content related video/file/module/unit was created to be used in compliance with the TEACH Act. 17 U.S.C. A110(2). Copyrighted. course materials may not be further disseminated. Learn more about copyright law and. restrictions at: http://libguides.richmond.edu/copyright..'}, {'type': 'Text', 'bbox': [0.11844140445484834, 0.5674015114524148, 0.8858721564797795, 0.6730982000177557], 'properties': {'score': 0.9337541460990906, 'page_number': 5}, 'text_representation': 'Students with Disabilities: The University of California, Irvine, is committed to. providing a barrier-free environment for learning and an electronic environment that is. accessible to everyone, including individuals with disabilities. If you have a disability. and feel you need accommodations in this program or a course, please contact the Disability Services Center (DSC). DSC-approved accommodations will be provided for. students who present a Faculty Notification Letter from the DSC..'}, {'type': 'Text', 'bbox': [0.11843958237591912, 0.6873334849964489, 0.8867409380744485, 0.8997737260298295], 'properties': {'score': 0.9393561482429504, 'page_number': 5}, 'text_representation': \"Diversity & Inclusion: I and the staff members of this course will uphold the University of California, Irvine's commitment to ensuring equality and valuing diversity in. accordance with applicable Federal and State law and University policy. UCI. recognizes that our individual differences can deepen our understanding of one another and the world around us, rather than divide us. In this class, people of all ethnicities genders and gender identities, religions, ages, sexual orientations, disabilities. socioeconomic backgrounds, regions, and nationalities are strongly encouraged to. share their rich array of perspectives and experiences. If you feel your differences may. in some way isolate you from UCI's community or if you have a need for any special. accommodations, please speak with the instructor early in the quarter about your. concerns and what we can do together to help you become an active and engaged member of our class and community..\"}, {'type': 'Text', 'bbox': [0.11915022008559283, 0.09087956515225497, 0.880456112132353, 0.12556696111505683], 'properties': {'score': 0.8227007389068604, 'page_number': 6}, 'text_representation': 'Student Support Services: A wide variety of campus resources are available to assist students, including:'}, {'type': 'List-item', 'bbox': [0.1479570276596967, 0.13657011552290482, 0.5469233254825367, 0.15405349731445311], 'properties': {'score': 0.9248293042182922, 'page_number': 6}, 'text_representation': '- UC/ Student Portal: https://students.uci.edu/'}, {'type': 'List-item', 'bbox': [0.14785786348230698, 0.1595706592906605, 0.5918176628561581, 0.17735918912020596], 'properties': {'score': 0.9232674837112427, 'page_number': 6}, 'text_representation': '- UC/ Disability Service Center: https:l/dsc.uci.edu/'}, {'type': 'List-item', 'bbox': [0.14787885778090534, 0.18351176868785513, 0.8480839987362132, 0.2184390674937855], 'properties': {'score': 0.930259644985199, 'page_number': 6}, 'text_representation': ': UCl Learn Anywhere: Remote learning resources for UCI students provided by. DTEl and OlT are available at https://sites.uci.edu/learnanywhere/'}, {'type': 'List-item', 'bbox': [0.14830780029296875, 0.22458296342329545, 0.8674467917049632, 0.25947576349431817], 'properties': {'score': 0.8423464894294739, 'page_number': 6}, 'text_representation': ': The Learning & Academic Resource Center (LARC): Online Tutoring is available https://larc.uci.edu/'}, {'type': 'List-item', 'bbox': [0.14810484942267924, 0.265689697265625, 0.7947703642003676, 0.3001407137784091], 'properties': {'score': 0.9296535849571228, 'page_number': 6}, 'text_representation': 'Technica/ Support: Contact the OlT helpdesk at oit@uci.edu or call (949 824-2222 for all technical support and training needs'}, {'type': 'List-item', 'bbox': [0.1479353422277114, 0.30651519775390623, 0.5040124152688419, 0.3238775357333097], 'properties': {'score': 0.9206106662750244, 'page_number': 6}, 'text_representation': ' Canvas Support Hotline: 855-213-7130'}, {'type': 'List-item', 'bbox': [0.14820471370921415, 0.330145957253196, 0.6948810891544117, 0.34779327392578124], 'properties': {'score': 0.8894134759902954, 'page_number': 6}, 'text_representation': '- UC/ Wellness, Health, and Counseling: For more information'}, {'type': 'Text', 'bbox': [0.1491044796214384, 0.35522635719992895, 0.43123125861672795, 0.3719443858753551], 'properties': {'score': 0.7128123641014099, 'page_number': 6}, 'text_representation': 'please visit https://whcs.uci.edu/'}, {'type': 'List-item', 'bbox': [0.1479994022144991, 0.38446255770596593, 0.6301297535615809, 0.4020952814275568], 'properties': {'score': 0.9167918562889099, 'page_number': 6}, 'text_representation': '- UC/ Consulting Center: http://www.counseling.uci.edu'}, {'type': 'List-item', 'bbox': [0.1483053409352022, 0.40974254261363635, 0.5999795711741728, 0.42664711692116475], 'properties': {'score': 0.9165728688240051, 'page_number': 6}, 'text_representation': '- UC/ Fresh Needs Hub: https://basicneeds.uci.edu/'}, {'type': 'List-item', 'bbox': [0.14868640675264247, 0.43346699107776987, 0.5839312026079964, 0.4506317138671875], 'properties': {'score': 0.9153710603713989, 'page_number': 6}, 'text_representation': 'UC/ LGBT Resource Center: http://lgbtrc.uci.edu'}, {'type': 'List-item', 'bbox': [0.14890659107881435, 0.45701121937144884, 0.6561570111443015, 0.47414256702769886], 'properties': {'score': 0.9174931645393372, 'page_number': 6}, 'text_representation': 'Undocumented Student Support: http:l/dreamers.uci.edu'}, {'type': 'List-item', 'bbox': [0.14943412331973804, 0.4802334317294034, 0.834123965992647, 0.49759443803267045], 'properties': {'score': 0.9145075678825378, 'page_number': 6}, 'text_representation': 'Student Pandemic Resources: https://uci.edu/coronavirus/students/index.php'}]\n"
     ]
    }
   ],
   "source": [
    "## Walk over the image elements in the returned JSON and show the first one\n",
    "data = partitioned_file['elements']\n",
    "print(data)"
   ],
   "metadata": {
    "collapsed": false,
    "ExecuteTime": {
     "end_time": "2025-01-12T01:26:48.559256Z",
     "start_time": "2025-01-12T01:26:48.555542Z"
    }
   },
   "id": "bd823adf2893667a",
   "execution_count": 5
  },
  {
   "cell_type": "code",
   "outputs": [],
   "source": [
    "# Pydantic models used to form response_format parameter to anthropic\n",
    "class description(BaseModel):\n",
    "    image_title: str\n",
    "    image_description: str\n",
    "\n",
    "class diagram_response(BaseModel):\n",
    "    steps: list[description]"
   ],
   "metadata": {
    "collapsed": false,
    "ExecuteTime": {
     "end_time": "2025-01-12T01:26:48.683662Z",
     "start_time": "2025-01-12T01:26:48.561073Z"
    }
   },
   "id": "31696c02ccee44b0",
   "execution_count": 6
  },
  {
   "cell_type": "code",
   "outputs": [],
   "source": [
    "diagram_response_schema = diagram_response.model_json_schema()\n",
    "\n",
    "tools = [\n",
    "    {\n",
    "        \"name\": \"build_description_result\",\n",
    "        \"description\": \"build the description object\",\n",
    "        \"input_schema\": diagram_response_schema\n",
    "    }\n",
    "]"
   ],
   "metadata": {
    "collapsed": false,
    "ExecuteTime": {
     "end_time": "2025-01-12T01:26:48.695026Z",
     "start_time": "2025-01-12T01:26:48.685944Z"
    }
   },
   "id": "e44dfd9fee23ced3",
   "execution_count": 7
  },
  {
   "cell_type": "code",
   "outputs": [
    {
     "name": "stdout",
     "output_type": "stream",
     "text": [
      "[{'type': 'Section-header', 'bbox': [0.11799425012925092, 0.09089284723455256, 0.6248676614200368, 0.12518794666637073], 'properties': {'score': 0.4963124692440033, 'page_number': 1}, 'text_representation': 'CS 122A/EECS 116 Introduction to Data Management Winter 2025'}, {'type': 'Text', 'bbox': [0.11958067052504595, 0.12616450916637073, 0.5697048770680148, 0.14329833984375], 'properties': {'score': 0.360942542552948, 'page_number': 1}, 'text_representation': 'nstructor: Prof. Faisal Nawab <nawabfauci.edu.'}, {'type': 'Text', 'bbox': [0.17535136503331802, 0.14281638405539773, 0.6240349264705882, 0.16098384510387073], 'properties': {'score': 0.3371292054653168, 'page_number': 1}, 'text_representation': 'Office hours: Tuesdays 12:30 - 1:30PM, DBH 2088'}, {'type': 'List-item', 'bbox': [0.11930120131548713, 0.16028894597833807, 0.4921765495749081, 0.2651818570223722], 'properties': {'score': 0.5536366701126099, 'page_number': 1}, 'text_representation': 'TAs: Farzad Habibi <habibif@uci.edu> Jiadong Bal <jiadonqb@uci.edu> Keming Li <keminql1@uci.edu> Nada Lahjoujl <nlahjouj@uci.edu> Shiyuan Zhou <szhou20@uci.edu> Yinan Zhou <yinanz17@uci.edu>'}, {'type': 'Section-header', 'bbox': [0.12008129344267003, 0.2656635908647017, 0.26706410127527574, 0.2826925104314631], 'properties': {'score': 0.36692824959754944, 'page_number': 1}, 'text_representation': 'TA Office Hours:'}, {'type': 'Text', 'bbox': [0.17680583280675552, 0.28156524658203125, 0.6691709989659926, 0.3700722989169034], 'properties': {'score': 0.4693281352519989, 'page_number': 1}, 'text_representation': 'Monday: 9 - 10:30 am (ICS458A); 2 - 3 pm (TBD) Tuesday: 9 - 10:30 am (TBD) Wednesday: All discussion sessions are Office Hours Thursday: 9 - 10:30 am (ICS458B): 2:30 - 4 pm (TBD) Friday: 10 - 11:30 am , 2 - 3:30 pm (TBD)'}, {'type': 'Section-header', 'bbox': [0.11847792681525736, 0.3872224287553267, 0.5173215978285846, 0.4041011740944602], 'properties': {'score': 0.5024760961532593, 'page_number': 1}, 'text_representation': 'Lectures: TuTh 11AM-12:20PM HSLH 100A'}, {'type': 'Section-header', 'bbox': [0.11908556769875919, 0.405744795365767, 0.4921152630974265, 0.4227380648526278], 'properties': {'score': 0.4980583190917969, 'page_number': 1}, 'text_representation': 'Optional (highly Encouraged) textbook:'}, {'type': 'Text', 'bbox': [0.11927363676183364, 0.4228403819691051, 0.8728890452665441, 0.45717249090021306], 'properties': {'score': 0.7120099663734436, 'page_number': 1}, 'text_representation': 'Raghu Ramakrishnan & Johannes Gehrke, Database Management Systems 3rd Edition, McGraw-Hill 2012. ISBN-13: 978-0072465631, ISBN-10: 0072465638'}, {'type': 'Text', 'bbox': [0.1189662260167739, 0.4738741233132102, 0.8863600786994486, 0.579714189009233], 'properties': {'score': 0.8688485622406006, 'page_number': 1}, 'text_representation': 'Course Description: This course provides students with an introduction to the design. of databases and the use of database management systems in support of applications. Students will gain exposure to how relational database management systems are used. to manage an actual database. Time permitting, the course will also touch briefly on. advanced database management topics such as semi-structured data management and/or transactions.'}, {'type': 'Text', 'bbox': [0.1185529551786535, 0.597933183149858, 0.8877829159007353, 0.8326265647194603], 'properties': {'score': 0.9228013157844543, 'page_number': 1}, 'text_representation': 'This course is aimed at database design and the use of database management. systems in building database applications. It feeds into a follow-on project course, CS122B, whose focus is data-centric Web applications. The CS122A/B course sequence does NOT cover the internal workings of database systems; that material is. covered in the undergraduate course CS122C (or its graduate equivalent, CS222) and the graduate-level follow-on course Cs223. (The course textbook also delves further into that material for those students who are curious about what goes on under the. hood.) Interested students are strongly encouraged to take one, two, or all of these courses: CS122B and CS122c/Cs222 are independent, as each one requires only CS122A as their required database background. Also available as a new CS122A. follow-on course is CS1222D, whose focus is on new post-relational data management technologies, i.e., \"NoSQL\" databases and Big Data management platforms. Prerequisite(s): IC SCl 33 (with C or higher) OR EECS 114'}, {'type': 'Section-header', 'bbox': [0.118811133889591, 0.8469752086292613, 0.39004344267003677, 0.8631126819957387], 'properties': {'score': 0.7150630354881287, 'page_number': 1}, 'text_representation': 'Course Learning Objectives:'}, {'type': 'Text', 'bbox': [0.11780753640567555, 0.8652097389914772, 0.7291978544347426, 0.8810328813032671], 'properties': {'score': 0.7895420789718628, 'page_number': 1}, 'text_representation': 'After successful completion of this course, students should be able to'}, {'type': 'List-item', 'bbox': [0.17571330350988051, 0.09196724631569603, 0.7475545008042279, 0.10808170665394176], 'properties': {'score': 0.5919394493103027, 'page_number': 2}, 'text_representation': '1. Design and develop entity-relationship (E-R) for an application'}, {'type': 'List-item', 'bbox': [0.17503583122702207, 0.11142202897505327, 0.7856283030790441, 0.12670971957120028], 'properties': {'score': 0.5645559430122375, 'page_number': 2}, 'text_representation': '2. Utilize a relational data model and E-R desian to build DB relations'}, {'type': 'List-item', 'bbox': [0.1752086145737592, 0.13020044500177558, 0.6721414005055147, 0.14556876442649147], 'properties': {'score': 0.57465660572052, 'page_number': 2}, 'text_representation': '3. Discuss and apply relation database design principles'}, {'type': 'List-item', 'bbox': [0.17491155287798713, 0.14822092229669745, 0.8126180491727941, 0.16395172119140625], 'properties': {'score': 0.5991097092628479, 'page_number': 2}, 'text_representation': '4. Apply abstract query languages such as relational algebra to optimize'}, {'type': 'List-item', 'bbox': [0.14087015488568475, 0.16749657370827414, 0.8226024672564338, 0.20060596812855114], 'properties': {'score': 0.5956318974494934, 'page_number': 2}, 'text_representation': '5. Create and use industry-standard query language, SQL, to interact with DBs.'}, {'type': 'List-item', 'bbox': [0.17562602323644302, 0.20487627896395597, 0.6506275850183824, 0.2201665704900568], 'properties': {'score': 0.6569596529006958, 'page_number': 2}, 'text_representation': '6. Understand indexing and physical database design'}, {'type': 'Text', 'bbox': [0.11890131333295037, 0.2361599454012784, 0.8840784409466912, 0.3229092684659091], 'properties': {'score': 0.7663717865943909, 'page_number': 2}, 'text_representation': 'Course Organization: We will be utilizing Canvas, Gradescope, Google Drive, & EdDiscussion. Canvas will be the primary source of reference for course resources. EdDiscussion will be the main avenue of communication. Gooqle Docs and Drive wil be used to distribute assignments and associated materials. Gradescope will be used for homework submissions and returning graded assessments'}, {'type': 'List-item', 'bbox': [0.11761954812442556, 0.34262437300248577, 0.8838313562729779, 0.4120693692294034], 'properties': {'score': 0.5364081263542175, 'page_number': 2}, 'text_representation': 'Course Lecture attendance is expected and highly encouraged. Questions are. encouraqed. Generally, lectures may not be recorded or remotely accessible Students are responsible for all missed information in lectures, regardless of the. reason for absence.'}, {'type': 'List-item', 'bbox': [0.11814001644358915, 0.4269159212979403, 0.8840385885799632, 0.513974609375], 'properties': {'score': 0.5442053079605103, 'page_number': 2}, 'text_representation': 'Course Discussion will be drop-in TA assistance hours, similar to Office Hours, on most weeks. Students are encouraged to attend ANY of the scheduled discussion times to qain clarification or assistance on the course materials. If many students are in attendance the TA with review the topics for the group rather than answer questions 1-on-1.'}, {'type': 'List-item', 'bbox': [0.11789197136374081, 0.5287759121981535, 0.8839769789751838, 0.5804569868607955], 'properties': {'score': 0.5149338841438293, 'page_number': 2}, 'text_representation': 'Course Announcements will be posted to EdDiscussion and pinned to the top for the relevant period. All students are expected to read all course announcements. Check EdDiscussion regularly and adjust your email preferences accordingly..'}, {'type': 'Section-header', 'bbox': [0.4037271656709559, 0.6209948175603693, 0.6002636000689339, 0.6363330078125], 'properties': {'score': 0.8929538726806641, 'page_number': 2}, 'text_representation': 'Course Components'}, {'type': 'List-item', 'bbox': [0.11927959666532628, 0.6508619273792614, 0.8843166934742647, 0.7017654696377841], 'properties': {'score': 0.5369225740432739, 'page_number': 2}, 'text_representation': 'Homework Assignments (40%) are a main component of the course. The goal of these assignments is to apply the concepts from the modules to design, build, and use a database for a given application.'}, {'type': 'Text', 'bbox': [0.16373465145335478, 0.7108807373046875, 0.8857190659466911, 0.798582930131392], 'properties': {'score': 0.7235749959945679, 'page_number': 2}, 'text_representation': 'All assignments must be completed individually. Students may discuss the assignment itself (i.e. understanding of the assignment, general approach general concepts) with their peers/tutors/TAs but are to complete the work and specifics of the assignment themselves. Peer/Pair programming of the assignment will be considered academic dishonesty.'}, {'type': 'Text', 'bbox': [0.1628044756721048, 0.8072582452947443, 0.88492431640625, 0.8952275501598012], 'properties': {'score': 0.8657095432281494, 'page_number': 2}, 'text_representation': 'Offering and accepting any piece of code from another person (online or in. person) is an act of plagiarism, which is a serious offense and all involved. parties will be penalized according to the Academic Honesty Policy. General. discussion about the assignment itself or course concepts between students is encouraged. When in doubt, direct your questions to the professor, the TAs/senior'}, {'type': 'Text', 'bbox': [0.16234466552734375, 0.09218245072798295, 0.40724440630744485, 0.10770048661665484], 'properties': {'score': 0.6658411026000977, 'page_number': 3}, 'text_representation': 'tutors. and/or the lab tutors'}, {'type': 'Text', 'bbox': [0.16393694709329043, 0.11621600064364347, 0.8580087459788603, 0.15059789484197444], 'properties': {'score': 0.7574752569198608, 'page_number': 3}, 'text_representation': 'Up to 2 homework assignments will be accepted late (up to 24 hours after the deadline) without penalty. These will be referred to as Late passes.'}, {'type': 'Text', 'bbox': [0.16471054974724264, 0.159737548828125, 0.27809988582835476, 0.17422733653675426], 'properties': {'score': 0.49260205030441284, 'page_number': 3}, 'text_representation': 'Late passes:'}, {'type': 'List-item', 'bbox': [0.18775049546185663, 0.1884800165349787, 0.8440492158777574, 0.22186505404385654], 'properties': {'score': 0.8726943135261536, 'page_number': 3}, 'text_representation': ' are considered as used when an assignment is submitted within 24 hours after the original homework deadline'}, {'type': 'List-item', 'bbox': [0.18773426729090073, 0.23017167524857954, 0.792878848805147, 0.24553932883522728], 'properties': {'score': 0.5263038277626038, 'page_number': 3}, 'text_representation': ': cannot be stacked (i.e. more than 1 late pass may not be used for a'}, {'type': 'Text', 'bbox': [0.18902837416704962, 0.2540678267045455, 0.35937916475183823, 0.26979869495738634], 'properties': {'score': 0.5184505581855774, 'page_number': 3}, 'text_representation': 'single assignment)'}, {'type': 'Text', 'bbox': [0.1632536585190717, 0.2847181562943892, 0.8828779153262868, 0.3362476695667614], 'properties': {'score': 0.7540672421455383, 'page_number': 3}, 'text_representation': \"To use a late pass, solely submit your assignment within the 24-hour late period. It is the student's responsibility to track late pass usage via Gradescope or Canvas Gradebook.\"}, {'type': 'List-item', 'bbox': [0.11899256986730239, 0.3508483054421165, 0.8846576286764706, 0.4022033136541193], 'properties': {'score': 0.691623866558075, 'page_number': 3}, 'text_representation': 'Midterm Exams (2 midterms, 20% each) are held during lecture time. The midterm will focus on the material covered in the topics presented prior to the exam. The exams are timed, closed book, and closed notes.'}, {'type': 'List-item', 'bbox': [0.11954110538258272, 0.41684534246271304, 0.8856244973575368, 0.48642844460227275], 'properties': {'score': 0.7059532403945923, 'page_number': 3}, 'text_representation': 'Project (15%) The project will be a hands-on component of the course, performed in groups of 4 students. The purpose of the project is for students to apply the concepts they have learned in a project that mimics a real application of databases.'}, {'type': 'List-item', 'bbox': [0.11946988274069394, 0.50107421875, 0.8845374253216912, 0.5343574107776988], 'properties': {'score': 0.6613842248916626, 'page_number': 3}, 'text_representation': 'Participation (5%) Participation scores are based on attendance, participation in in-class discussions, and in-class worksheets/quizzes..'}, {'type': 'Text', 'bbox': [0.1183788434196921, 0.5654305197975852, 0.8864276482077206, 0.688157792524858], 'properties': {'score': 0.8429037928581238, 'page_number': 3}, 'text_representation': 'Course Grading: Final grades in the course are determined based on the total. weighted score. Individual metrics are not \"curved\". Letter grade cut-offs will be. determined based on overall student performance - never above the standard letter grade distributions (93+ A, 90-92.99 A-, 87-89.99 B+, etc). Cut-offs are determined. based on the student performance within the course offering, not based on the percentage or number of students per letter grade. This means if everyone does very. well, everyone will get an A!.'}, {'type': 'Text', 'bbox': [0.11970454496495864, 0.7076609663529829, 0.8527747300091911, 0.7589406516335228], 'properties': {'score': 0.8975009322166443, 'page_number': 3}, 'text_representation': 'Note that the course grading scheme may be modified during the quarter if an issue. with an overall lack of participation, widespread academic dishonesty, or disruptive extraneous circumstances emerge.'}, {'type': 'Text', 'bbox': [0.11875558292164522, 0.7749014004794034, 0.8837976792279412, 0.7907557262073863], 'properties': {'score': 0.32640063762664795, 'page_number': 3}, 'text_representation': 'Grading Concerns must be submitted within 7 days of the grade release (or shorter'}, {'type': 'Text', 'bbox': [0.16194323371438418, 0.7940783136541193, 0.8842822265625, 0.8989479203657671], 'properties': {'score': 0.39714083075523376, 'page_number': 3}, 'text_representation': 'for assignments/exams in the last week and finals week), per posted instructions After this period grading concerns will not be accepted and the assigned grade will be considered final. Grading concerns will be addressed as quickly as possible, but are subject to delay due to other grading. All grading concerns will be resolved before final grades are calculated. Any grading concern must include a detailed explanation of the specific grading issues and the reason for the believed'}, {'type': 'Text', 'bbox': [0.16297808478860293, 0.09270933671431109, 0.2556889971564798, 0.10764326615767046], 'properties': {'score': 0.4221964478492737, 'page_number': 4}, 'text_representation': 'correction.'}, {'type': 'List-item', 'bbox': [0.11889925788430607, 0.12361285122958096, 0.8848622759650735, 0.24850780140269887], 'properties': {'score': 0.4608491361141205, 'page_number': 4}, 'text_representation': 'EdDiscussion can be a useful tool for the course when used properly. For example, a question can be answered quickly by your classmates, the TAs, the Readers, and the Instructor. Rather than emailing your course or homework content questions to. the teaching staff, you will be expected to post your questions on EdDiscussion. However, it is important to use EdDiscussion constructively in order to create a valuable and supportive community. All students are expected to follow these guidelines:'}, {'type': 'List-item', 'bbox': [0.18776681339039522, 0.26399225408380683, 0.614495849609375, 0.2808920010653409], 'properties': {'score': 0.8963011503219604, 'page_number': 4}, 'text_representation': ' Create a descriptive summary of your question'}, {'type': 'List-item', 'bbox': [0.187940871294807, 0.2870785245028409, 0.870902889476103, 0.3217954323508523], 'properties': {'score': 0.9199259877204895, 'page_number': 4}, 'text_representation': ' Properly tag your post with the most appropriate tag(s) for the question. If an appropriate tag does not exist, use other..'}, {'type': 'List-item', 'bbox': [0.1874717981675092, 0.32819480202414775, 0.8834809426700367, 0.38111555619673293], 'properties': {'score': 0.9190102815628052, 'page_number': 4}, 'text_representation': ' Prior to posting a question, use the tags and the search box to find existing. question(s) that may answer your question. Avoid re-asking questions. Also. search the provided course resources for your answer prior to posting.'}, {'type': 'List-item', 'bbox': [0.18695727180032168, 0.3830433516068892, 0.8838338694852941, 0.5068275590376421], 'properties': {'score': 0.9149208068847656, 'page_number': 4}, 'text_representation': '. In the details of your question/post, be as specific and descriptive with your question as possible. Include a GENERIC example that illustrates your issue. EdDiscussion posts are not a place to discuss the finer details of answers to HW problems - in other words, it is not a place to post, request, or compare answers to specific problems! (Doing so would actually risk your violating the Academic Honesty Policy, as everyone is expected to ultimately do their own work.)'}, {'type': 'Text', 'bbox': [0.16413698084214154, 0.5148702170632102, 0.8846172018612133, 0.6036796985973011], 'properties': {'score': 0.8247262239456177, 'page_number': 4}, 'text_representation': 'Most importantly, EdDiscussion is a forum for course-related content, additional. learning, and assistance. If you have questions about assignments, technical. problems that need troubleshooting, or other questions that might be of interest to other students, they must be posted to EdDiscussion and not emailed to the. instructor or TA.'}, {'type': 'Text', 'bbox': [0.11888918708352482, 0.6168237859552557, 0.8856179630055147, 0.704839921431108], 'properties': {'score': 0.9025629758834839, 'page_number': 4}, 'text_representation': 'Academic Integrity: We encourage collaborative learning through discussion of assignment requirements and course concepts to enhance understanding of the course material and concepts. However, any submitted work for a grade must be the sole work of the student independently. Peer/Pair programming or jointly solutions on any graded component will be considered academic dishonesty.'}, {'type': 'Text', 'bbox': [0.11880102718577665, 0.7230005992542614, 0.8847203153722426, 0.8304296320134943], 'properties': {'score': 0.9164740443229675, 'page_number': 4}, 'text_representation': 'Offering and accepting any piece of work/code from another person (online or in person) is an act of plagiarism, which is a serious offense and all involved parties will be penalized according to the Academic Honesty Policy. Any evidence that code or solutions have been copied, shared, or transmitted in any way (this includes using source code downloaded from the Internet or written by others in previous semesters!) will be regarded as evidence of academic dishonesty.'}, {'type': 'Text', 'bbox': [0.1184147554285386, 0.8494870827414772, 0.8861867388556985, 0.9026001531427557], 'properties': {'score': 0.9170774221420288, 'page_number': 4}, 'text_representation': 'This course has a ZERO-tolerance policy on cheating. Violations of academic integrity will be referred to the Office of Academic Integrity and Student Conduct. Any student found to be involved in cheating or aiding others in doing so will be'}, {'type': 'Text', 'bbox': [0.11894324807559743, 0.09182591524991122, 0.8846141142003676, 0.16218833229758522], 'properties': {'score': 0.9433040618896484, 'page_number': 5}, 'text_representation': 'academically prosecuted to the maximum extent possible. Typically, this means failure. of the course in its entirety. All students will be expected to adhere to the UCl and ICS Academic Honesty policies (see UCl Academic Honesty Policy and ICs Academic. Honesty Policy to read their details)..'}, {'type': 'Text', 'bbox': [0.11854869169347426, 0.17745709505948154, 0.8843655215992647, 0.40915976784446023], 'properties': {'score': 0.9424859285354614, 'page_number': 5}, 'text_representation': \"Course Material Copyright: Lectures and course materials, including lecture notes. slides, presentations, quizzes, tests, exams, practice problems and solutions, and similar materials, are protected by copyright. Copyrighted course materials may not be further disseminated. Selling, preparing, or distributing for any commercial purpose course lecture notes or video or audio recordings of any course unless authorized by the University in advance and explicitly permitted by the course instructor in writing The unauthorized sale or commercial distribution of course notes or recordings by a. student is a violation of these Policies whether or not it was the student or someone. else who prepared the notes or recordings. This includes providing materials to commercial course material suppliers such as CourseHero and other similar services.. Students who publicly distribute, display, or help others publicly distribute or display. copies (or modi ed copies) of an instructor's course materials are in violation of UC's. 2005 policy on the Use of Recordings of Course Presentations.\"}, {'type': 'Text', 'bbox': [0.11865613151999081, 0.42785511363636364, 0.885002010569853, 0.5528347500887784], 'properties': {'score': 0.9456561207771301, 'page_number': 5}, 'text_representation': 'This course is provided by The University of California, which has policies regarding copyright. Materials used in connection with this course may be subject to copyright. protection. Refer to the information provided in each video/ le/module/unit for copyright. information for each work. The course content related video/file/module/unit was created to be used in compliance with the TEACH Act. 17 U.S.C. A110(2). Copyrighted. course materials may not be further disseminated. Learn more about copyright law and. restrictions at: http://libguides.richmond.edu/copyright..'}, {'type': 'Text', 'bbox': [0.11844140445484834, 0.5674015114524148, 0.8858721564797795, 0.6730982000177557], 'properties': {'score': 0.9337541460990906, 'page_number': 5}, 'text_representation': 'Students with Disabilities: The University of California, Irvine, is committed to. providing a barrier-free environment for learning and an electronic environment that is. accessible to everyone, including individuals with disabilities. If you have a disability. and feel you need accommodations in this program or a course, please contact the Disability Services Center (DSC). DSC-approved accommodations will be provided for. students who present a Faculty Notification Letter from the DSC..'}, {'type': 'Text', 'bbox': [0.11843958237591912, 0.6873334849964489, 0.8867409380744485, 0.8997737260298295], 'properties': {'score': 0.9393561482429504, 'page_number': 5}, 'text_representation': \"Diversity & Inclusion: I and the staff members of this course will uphold the University of California, Irvine's commitment to ensuring equality and valuing diversity in. accordance with applicable Federal and State law and University policy. UCI. recognizes that our individual differences can deepen our understanding of one another and the world around us, rather than divide us. In this class, people of all ethnicities genders and gender identities, religions, ages, sexual orientations, disabilities. socioeconomic backgrounds, regions, and nationalities are strongly encouraged to. share their rich array of perspectives and experiences. If you feel your differences may. in some way isolate you from UCI's community or if you have a need for any special. accommodations, please speak with the instructor early in the quarter about your. concerns and what we can do together to help you become an active and engaged member of our class and community..\"}, {'type': 'Text', 'bbox': [0.11915022008559283, 0.09087956515225497, 0.880456112132353, 0.12556696111505683], 'properties': {'score': 0.8227007389068604, 'page_number': 6}, 'text_representation': 'Student Support Services: A wide variety of campus resources are available to assist students, including:'}, {'type': 'List-item', 'bbox': [0.1479570276596967, 0.13657011552290482, 0.5469233254825367, 0.15405349731445311], 'properties': {'score': 0.9248293042182922, 'page_number': 6}, 'text_representation': '- UC/ Student Portal: https://students.uci.edu/'}, {'type': 'List-item', 'bbox': [0.14785786348230698, 0.1595706592906605, 0.5918176628561581, 0.17735918912020596], 'properties': {'score': 0.9232674837112427, 'page_number': 6}, 'text_representation': '- UC/ Disability Service Center: https:l/dsc.uci.edu/'}, {'type': 'List-item', 'bbox': [0.14787885778090534, 0.18351176868785513, 0.8480839987362132, 0.2184390674937855], 'properties': {'score': 0.930259644985199, 'page_number': 6}, 'text_representation': ': UCl Learn Anywhere: Remote learning resources for UCI students provided by. DTEl and OlT are available at https://sites.uci.edu/learnanywhere/'}, {'type': 'List-item', 'bbox': [0.14830780029296875, 0.22458296342329545, 0.8674467917049632, 0.25947576349431817], 'properties': {'score': 0.8423464894294739, 'page_number': 6}, 'text_representation': ': The Learning & Academic Resource Center (LARC): Online Tutoring is available https://larc.uci.edu/'}, {'type': 'List-item', 'bbox': [0.14810484942267924, 0.265689697265625, 0.7947703642003676, 0.3001407137784091], 'properties': {'score': 0.9296535849571228, 'page_number': 6}, 'text_representation': 'Technica/ Support: Contact the OlT helpdesk at oit@uci.edu or call (949 824-2222 for all technical support and training needs'}, {'type': 'List-item', 'bbox': [0.1479353422277114, 0.30651519775390623, 0.5040124152688419, 0.3238775357333097], 'properties': {'score': 0.9206106662750244, 'page_number': 6}, 'text_representation': ' Canvas Support Hotline: 855-213-7130'}, {'type': 'List-item', 'bbox': [0.14820471370921415, 0.330145957253196, 0.6948810891544117, 0.34779327392578124], 'properties': {'score': 0.8894134759902954, 'page_number': 6}, 'text_representation': '- UC/ Wellness, Health, and Counseling: For more information'}, {'type': 'Text', 'bbox': [0.1491044796214384, 0.35522635719992895, 0.43123125861672795, 0.3719443858753551], 'properties': {'score': 0.7128123641014099, 'page_number': 6}, 'text_representation': 'please visit https://whcs.uci.edu/'}, {'type': 'List-item', 'bbox': [0.1479994022144991, 0.38446255770596593, 0.6301297535615809, 0.4020952814275568], 'properties': {'score': 0.9167918562889099, 'page_number': 6}, 'text_representation': '- UC/ Consulting Center: http://www.counseling.uci.edu'}, {'type': 'List-item', 'bbox': [0.1483053409352022, 0.40974254261363635, 0.5999795711741728, 0.42664711692116475], 'properties': {'score': 0.9165728688240051, 'page_number': 6}, 'text_representation': '- UC/ Fresh Needs Hub: https://basicneeds.uci.edu/'}, {'type': 'List-item', 'bbox': [0.14868640675264247, 0.43346699107776987, 0.5839312026079964, 0.4506317138671875], 'properties': {'score': 0.9153710603713989, 'page_number': 6}, 'text_representation': 'UC/ LGBT Resource Center: http://lgbtrc.uci.edu'}, {'type': 'List-item', 'bbox': [0.14890659107881435, 0.45701121937144884, 0.6561570111443015, 0.47414256702769886], 'properties': {'score': 0.9174931645393372, 'page_number': 6}, 'text_representation': 'Undocumented Student Support: http:l/dreamers.uci.edu'}, {'type': 'List-item', 'bbox': [0.14943412331973804, 0.4802334317294034, 0.834123965992647, 0.49759443803267045], 'properties': {'score': 0.9145075678825378, 'page_number': 6}, 'text_representation': 'Student Pandemic Resources: https://uci.edu/coronavirus/students/index.php'}]\n"
     ]
    }
   ],
   "source": [
    "def format_content(structured_content):\n",
    "    formatted_text = \"\"\n",
    "    for item in structured_content:\n",
    "        if item.get(\"type\") in [\"Section-header\", \"Text\", \"List-item\"]:\n",
    "            formatted_text += f\"{item['text_representation']}\\n\\n\"\n",
    "        elif item.get(\"type\") == \"table\":\n",
    "            formatted_text += \"Table:\\n\"\n",
    "            for cell in item['table']['cells']:\n",
    "                formatted_text += f\"{cell['content']} | \"\n",
    "            formatted_text += \"\\n\\n\"\n",
    "    return formatted_text\n",
    "\n",
    "formatted_content = format_content(data)\n",
    "print(data)"
   ],
   "metadata": {
    "collapsed": false,
    "ExecuteTime": {
     "end_time": "2025-01-12T01:26:48.702530Z",
     "start_time": "2025-01-12T01:26:48.696835Z"
    }
   },
   "id": "5288829e70f34f41",
   "execution_count": 8
  },
  {
   "cell_type": "code",
   "outputs": [
    {
     "name": "stdout",
     "output_type": "stream",
     "text": [
      "Message(id='msg_013jJf8MPzT8q3FgBqy3VVYC', content=[ToolUseBlock(id='toolu_01FDKPqiezvpvWFMFdgZmUjS', input={'steps': [{'image_title': 'Lectures', 'image_description': \"{\\n      'summary': 'CS 122A/EECS 116 Lecture',\\n      'location': 'HSLH 100A',\\n      'description': 'Introduction to Data Management lecture',\\n      'start': {\\n        'dateTime': '2025-01-07T11:00:00-08:00',\\n        'timeZone': 'America/Los_Angeles'\\n      },\\n      'end': {\\n        'dateTime': '2025-01-07T12:20:00-08:00',\\n        'timeZone': 'America/Los_Angeles'\\n      },\\n      'recurrence': [\\n        'RRULE:FREQ=WEEKLY;BYDAY=TU,TH;UNTIL=20250321T235959Z'\\n      ],\\n      'attendees': [],\\n      'reminders': {\\n        'useDefault': false,\\n        'overrides': [\\n          {'method': 'email', 'minutes': 1440},\\n          {'method': 'popup', 'minutes': 10}\\n        ]\\n      }\\n    }\"}, {'image_title': 'Instructor Office Hours', 'image_description': \"{\\n      'summary': 'Prof. Nawab Office Hours',\\n      'location': 'DBH 2088',\\n      'description': 'Professor office hours',\\n      'start': {\\n        'dateTime': '2025-01-07T12:30:00-08:00',\\n        'timeZone': 'America/Los_Angeles'\\n      },\\n      'end': {\\n        'dateTime': '2025-01-07T13:30:00-08:00',\\n        'timeZone': 'America/Los_Angeles'\\n      },\\n      'recurrence': [\\n        'RRULE:FREQ=WEEKLY;BYDAY=TU;UNTIL=20250321T235959Z'\\n      ],\\n      'attendees': [\\n        {'email': 'nawabfauci.edu'}\\n      ],\\n      'reminders': {\\n        'useDefault': false,\\n        'overrides': [\\n          {'method': 'email', 'minutes': 1440},\\n          {'method': 'popup', 'minutes': 10}\\n        ]\\n      }\\n    }\"}, {'image_title': 'TA Office Hours - Monday', 'image_description': \"{\\n      'summary': 'TA Office Hours',\\n      'location': 'ICS458A',\\n      'description': 'TA office hours',\\n      'start': {\\n        'dateTime': '2025-01-06T09:00:00-08:00',\\n        'timeZone': 'America/Los_Angeles'\\n      },\\n      'end': {\\n        'dateTime': '2025-01-06T10:30:00-08:00',\\n        'timeZone': 'America/Los_Angeles'\\n      },\\n      'recurrence': [\\n        'RRULE:FREQ=WEEKLY;BYDAY=MO;UNTIL=20250321T235959Z'\\n      ],\\n      'attendees': [],\\n      'reminders': {\\n        'useDefault': false,\\n        'overrides': [\\n          {'method': 'email', 'minutes': 1440},\\n          {'method': 'popup', 'minutes': 10}\\n        ]\\n      }\\n    }\"}, {'image_title': 'TA Office Hours - Monday Afternoon', 'image_description': \"{\\n      'summary': 'TA Office Hours',\\n      'location': 'TBD',\\n      'description': 'TA office hours',\\n      'start': {\\n        'dateTime': '2025-01-06T14:00:00-08:00',\\n        'timeZone': 'America/Los_Angeles'\\n      },\\n      'end': {\\n        'dateTime': '2025-01-06T15:00:00-08:00',\\n        'timeZone': 'America/Los_Angeles'\\n      },\\n      'recurrence': [\\n        'RRULE:FREQ=WEEKLY;BYDAY=MO;UNTIL=20250321T235959Z'\\n      ],\\n      'attendees': [],\\n      'reminders': {\\n        'useDefault': false,\\n        'overrides': [\\n          {'method': 'email', 'minutes': 1440},\\n          {'method': 'popup', 'minutes': 10}\\n        ]\\n      }\\n    }\"}]}, name='build_description_result', type='tool_use')], model='claude-3-5-sonnet-20241022', role='assistant', stop_reason='tool_use', stop_sequence=None, type='message', usage=Usage(cache_creation_input_tokens=0, cache_read_input_tokens=0, input_tokens=4418, output_tokens=1167))\n"
     ]
    }
   ],
   "source": [
    "import anthropic\n",
    "\n",
    "client = anthropic.Anthropic(api_key=openai_api_key)\n",
    "message = client.messages.create(\n",
    "    model=\"claude-3-5-sonnet-20241022\",\n",
    "    max_tokens=8192,\n",
    "    temperature=0,\n",
    "    messages=[\n",
    "        {\n",
    "            \"role\": \"user\",\n",
    "            \"content\": [\n",
    "                {\n",
    "                    \"type\": \"text\",\n",
    "                    \"text\": \"The following is a PDF syllabus document. Please extract specific key dates and times of relevant events like lectures, midterms, and project deadlines from the document. \"\n",
    "    \"Use the provided template to create a calendar event for each relevant date.\\n\\n\"\n",
    "    \"If an event does not have specific information for any field, set that field to `null`.\\n\\n\"\n",
    "    \"Template:\\n\"\n",
    "    \"event = {\\n\"\n",
    "    \"  'summary': 'Event summary (e.g., Midterm Exam)',\\n\"\n",
    "    \"  'location': 'Event location (if provided)',\\n\"\n",
    "    \"  'description': 'Brief description of the event',\\n\"\n",
    "    \"  'start': {\\n\"\n",
    "    \"    'dateTime': 'Start date and time in ISO 8601 format (e.g., 2025-05-28T09:00:00-07:00)',\\n\"\n",
    "    \"    'timeZone': 'Time zone (if provided)',\\n\"\n",
    "    \"  },\\n\"\n",
    "    \"  'end': {\\n\"\n",
    "    \"    'dateTime': 'End date and time in ISO 8601 format (if available)',\\n\"\n",
    "    \"    'timeZone': 'Time zone (if provided)',\\n\"\n",
    "    \"  },\\n\"\n",
    "    \"  'recurrence': [\\n\"\n",
    "    \"    'Recurrence rule in RRULE format (if applicable)',\\n\"\n",
    "    \"  ],\\n\"\n",
    "    \"  'attendees': [\\n\"\n",
    "    \"    {'email': 'Attendee email (if available)'},\\n\"\n",
    "    \"  ],\\n\"\n",
    "    \"  'reminders': {\\n\"\n",
    "    \"    'useDefault': False,\\n\"\n",
    "    \"    'overrides': [\\n\"\n",
    "    \"      {'method': 'email', 'minutes': 24 * 60},\\n\"\n",
    "    \"      {'method': 'popup', 'minutes': 10},\\n\"\n",
    "    \"    ],\\n\"\n",
    "    \"  },\\n\"\n",
    "    \"}\\n\\n\"\n",
    "    \"Document:\\n\"\n",
    "    f\"{formatted_content}\\n\\n\"\n",
    "    \"Instructions:\\n\"\n",
    "    \"1. Extract key events such as lectures, midterms, finals, and project deadlines.\\n\"\n",
    "    \"2. Fill out the `summary`, `start`, `end`, `location`, and `description` fields based on the document content.\\n\"\n",
    "    \"3. If the time zone is not mentioned, set it to `null`.\\n\"\n",
    "    \"4. If recurrence information (like repeating lectures) is provided, use the `recurrence` field with an RRULE.\\n\"\n",
    "    \"5. If no attendees are listed, set the `attendees` field to an empty list.\\n\"\n",
    "    \"6. Set any missing fields to `null` if the information is unavailable.\\n\"\n",
    "    \"7. Use ISO 8601 format for date and time fields.\"\n",
    "    \"Give no further text only the filled out events.\"\n",
    "                }\n",
    "            ],\n",
    "        }\n",
    "    ],\n",
    "        tools=tools,\n",
    "        tool_choice={\"type\": \"tool\", \"name\": \"build_description_result\"}\n",
    "\n",
    ")\n",
    "print(message)\n"
   ],
   "metadata": {
    "collapsed": false,
    "ExecuteTime": {
     "end_time": "2025-01-12T02:39:43.293915Z",
     "start_time": "2025-01-12T02:39:12.415885Z"
    }
   },
   "id": "fbea8ccb7f1fb7c",
   "execution_count": 18
  },
  {
   "cell_type": "code",
   "outputs": [
    {
     "name": "stdout",
     "output_type": "stream",
     "text": [
      "Lectures: \n",
      "{\n",
      "      'summary': 'CS 122A/EECS 116 Lecture',\n",
      "      'location': 'HSLH 100A',\n",
      "      'description': 'Introduction to Data Management lecture',\n",
      "      'start': {\n",
      "        'dateTime': '2025-01-07T11:00:00-08:00',\n",
      "        'timeZone': 'America/Los_Angeles'\n",
      "      },\n",
      "      'end': {\n",
      "        'dateTime': '2025-01-07T12:20:00-08:00',\n",
      "        'timeZone': 'America/Los_Angeles'\n",
      "      },\n",
      "      'recurrence': [\n",
      "        'RRULE:FREQ=WEEKLY;BYDAY=TU,TH;UNTIL=20250321T235959Z'\n",
      "      ],\n",
      "      'attendees': [],\n",
      "      'reminders': {\n",
      "        'useDefault': false,\n",
      "        'overrides': [\n",
      "          {'method': 'email', 'minutes': 1440},\n",
      "          {'method': 'popup', 'minutes': 10}\n",
      "        ]\n",
      "      }\n",
      "    }\n",
      "\n",
      "Instructor Office Hours: \n",
      "{\n",
      "      'summary': 'Prof. Nawab Office Hours',\n",
      "      'location': 'DBH 2088',\n",
      "      'description': 'Professor office hours',\n",
      "      'start': {\n",
      "        'dateTime': '2025-01-07T12:30:00-08:00',\n",
      "        'timeZone': 'America/Los_Angeles'\n",
      "      },\n",
      "      'end': {\n",
      "        'dateTime': '2025-01-07T13:30:00-08:00',\n",
      "        'timeZone': 'America/Los_Angeles'\n",
      "      },\n",
      "      'recurrence': [\n",
      "        'RRULE:FREQ=WEEKLY;BYDAY=TU;UNTIL=20250321T235959Z'\n",
      "      ],\n",
      "      'attendees': [\n",
      "        {'email': 'nawabfauci.edu'}\n",
      "      ],\n",
      "      'reminders': {\n",
      "        'useDefault': false,\n",
      "        'overrides': [\n",
      "          {'method': 'email', 'minutes': 1440},\n",
      "          {'method': 'popup', 'minutes': 10}\n",
      "        ]\n",
      "      }\n",
      "    }\n",
      "\n",
      "TA Office Hours - Monday: \n",
      "{\n",
      "      'summary': 'TA Office Hours',\n",
      "      'location': 'ICS458A',\n",
      "      'description': 'TA office hours',\n",
      "      'start': {\n",
      "        'dateTime': '2025-01-06T09:00:00-08:00',\n",
      "        'timeZone': 'America/Los_Angeles'\n",
      "      },\n",
      "      'end': {\n",
      "        'dateTime': '2025-01-06T10:30:00-08:00',\n",
      "        'timeZone': 'America/Los_Angeles'\n",
      "      },\n",
      "      'recurrence': [\n",
      "        'RRULE:FREQ=WEEKLY;BYDAY=MO;UNTIL=20250321T235959Z'\n",
      "      ],\n",
      "      'attendees': [],\n",
      "      'reminders': {\n",
      "        'useDefault': false,\n",
      "        'overrides': [\n",
      "          {'method': 'email', 'minutes': 1440},\n",
      "          {'method': 'popup', 'minutes': 10}\n",
      "        ]\n",
      "      }\n",
      "    }\n",
      "\n",
      "TA Office Hours - Monday Afternoon: \n",
      "{\n",
      "      'summary': 'TA Office Hours',\n",
      "      'location': 'TBD',\n",
      "      'description': 'TA office hours',\n",
      "      'start': {\n",
      "        'dateTime': '2025-01-06T14:00:00-08:00',\n",
      "        'timeZone': 'America/Los_Angeles'\n",
      "      },\n",
      "      'end': {\n",
      "        'dateTime': '2025-01-06T15:00:00-08:00',\n",
      "        'timeZone': 'America/Los_Angeles'\n",
      "      },\n",
      "      'recurrence': [\n",
      "        'RRULE:FREQ=WEEKLY;BYDAY=MO;UNTIL=20250321T235959Z'\n",
      "      ],\n",
      "      'attendees': [],\n",
      "      'reminders': {\n",
      "        'useDefault': false,\n",
      "        'overrides': [\n",
      "          {'method': 'email', 'minutes': 1440},\n",
      "          {'method': 'popup', 'minutes': 10}\n",
      "        ]\n",
      "      }\n",
      "    }\n"
     ]
    }
   ],
   "source": [
    "out = json.dumps(message.content[0].input['steps'], indent=4)\n",
    "print(out)\n",
    "def printout(jsonin):\n",
    "    json_data = json.loads(jsonin)\n",
    "\n",
    "    for dic in json_data:\n",
    "        print(f\"{dic['image_title']}: \\n{dic['image_description']}\\n\")\n",
    "printout(out)"
   ],
   "metadata": {
    "collapsed": false,
    "ExecuteTime": {
     "end_time": "2025-01-12T02:39:43.300147Z",
     "start_time": "2025-01-12T02:39:43.294964Z"
    }
   },
   "id": "4e7efd120c277e9c",
   "execution_count": 19
  },
  {
   "cell_type": "code",
   "outputs": [
    {
     "name": "stdout",
     "output_type": "stream",
     "text": [
      "Message(id='msg_01SCAQjqAqtkAwxPyXZkd3fe', content=[ToolUseBlock(id='toolu_01Q729TwXWfD5kA2itZ24JWp', input={'steps': [{'image_title': 'Course Information Summary', 'image_description': 'CS 122A/EECS 116 Introduction to Data Management - Winter 2025\\nInstructor: Prof. Faisal Nawab\\nLectures: TuTh 11AM-12:20PM at HSLH 100A\\nOffice Hours: Tuesdays 12:30-1:30PM, DBH 2088'}, {'image_title': 'Course Components and Grading', 'image_description': '- Homework Assignments (40%)\\n- Two Midterm Exams (20% each)\\n- Project (15%)\\n- Participation (5%)\\nLate Policy: Up to 2 homework assignments can be submitted up to 24 hours late using late passes'}, {'image_title': 'Learning Objectives', 'image_description': '1. Design E-R diagrams\\n2. Build DB relations using relational data model\\n3. Apply database design principles\\n4. Use relational algebra\\n5. Create and use SQL\\n6. Understand indexing and physical database design'}, {'image_title': 'Course Resources', 'image_description': 'Platforms used:\\n- Canvas (primary resource)\\n- Gradescope (submissions)\\n- Google Drive (assignments)\\n- EdDiscussion (communication)\\nTextbook: Database Management Systems by Ramakrishnan & Gehrke (Optional but encouraged)'}, {'image_title': 'Academic Policies', 'image_description': '- Zero-tolerance policy for cheating\\n- Individual work required on assignments\\n- No sharing or copying code\\n- Copyright protection on course materials\\n- Support services available for students with disabilities\\n- Commitment to diversity and inclusion'}]}, name='build_description_result', type='tool_use')], model='claude-3-5-sonnet-20241022', role='assistant', stop_reason='tool_use', stop_sequence=None, type='message', usage=Usage(cache_creation_input_tokens=0, cache_read_input_tokens=0, input_tokens=3921, output_tokens=485))\n"
     ]
    }
   ],
   "source": [
    "\n",
    "message = client.messages.create(\n",
    "    model=\"claude-3-5-sonnet-20241022\",\n",
    "    max_tokens=8192,\n",
    "    temperature=0,\n",
    "    messages=[\n",
    "        {\n",
    "            \"role\": \"user\",\n",
    "            \"content\": [\n",
    "                {\n",
    "                    \"type\": \"text\",\n",
    "                    \"text\": \"The following is a PDF syllabus document converted using aryn docparse. Please give a summary of all of the important information\"\n",
    "    f\"{formatted_content}\\n\\n\"\n",
    "                }\n",
    "            ],\n",
    "        }\n",
    "    ],\n",
    "        tools=tools,\n",
    "        tool_choice={\"type\": \"tool\", \"name\": \"build_description_result\"}\n",
    "\n",
    ")\n",
    "print(message)\n"
   ],
   "metadata": {
    "collapsed": false,
    "ExecuteTime": {
     "end_time": "2025-01-12T01:27:14.644825Z",
     "start_time": "2025-01-12T01:27:03.792822Z"
    }
   },
   "id": "f219f0b9855f8ffd",
   "execution_count": 11
  },
  {
   "cell_type": "code",
   "outputs": [
    {
     "name": "stdout",
     "output_type": "stream",
     "text": [
      "Course Information Summary: \n",
      "CS 122A/EECS 116 Introduction to Data Management - Winter 2025\n",
      "Instructor: Prof. Faisal Nawab\n",
      "Lectures: TuTh 11AM-12:20PM at HSLH 100A\n",
      "Office Hours: Tuesdays 12:30-1:30PM, DBH 2088\n",
      "\n",
      "Course Components and Grading: \n",
      "- Homework Assignments (40%)\n",
      "- Two Midterm Exams (20% each)\n",
      "- Project (15%)\n",
      "- Participation (5%)\n",
      "Late Policy: Up to 2 homework assignments can be submitted up to 24 hours late using late passes\n",
      "\n",
      "Learning Objectives: \n",
      "1. Design E-R diagrams\n",
      "2. Build DB relations using relational data model\n",
      "3. Apply database design principles\n",
      "4. Use relational algebra\n",
      "5. Create and use SQL\n",
      "6. Understand indexing and physical database design\n",
      "\n",
      "Course Resources: \n",
      "Platforms used:\n",
      "- Canvas (primary resource)\n",
      "- Gradescope (submissions)\n",
      "- Google Drive (assignments)\n",
      "- EdDiscussion (communication)\n",
      "Textbook: Database Management Systems by Ramakrishnan & Gehrke (Optional but encouraged)\n",
      "\n",
      "Academic Policies: \n",
      "- Zero-tolerance policy for cheating\n",
      "- Individual work required on assignments\n",
      "- No sharing or copying code\n",
      "- Copyright protection on course materials\n",
      "- Support services available for students with disabilities\n",
      "- Commitment to diversity and inclusion\n"
     ]
    }
   ],
   "source": [
    "out = json.dumps(message.content[0].input['steps'], indent=4)\n",
    "def printout(jsonin):\n",
    "    json_data = json.loads(jsonin)\n",
    "\n",
    "    for dic in json_data:\n",
    "        print(f\"{dic['image_title']}: \\n{dic['image_description']}\\n\")\n",
    "printout(out)"
   ],
   "metadata": {
    "collapsed": false,
    "ExecuteTime": {
     "end_time": "2025-01-12T01:27:14.649924Z",
     "start_time": "2025-01-12T01:27:14.645934Z"
    }
   },
   "id": "1eb2c219efa48445",
   "execution_count": 12
  },
  {
   "cell_type": "code",
   "outputs": [
    {
     "name": "stdout",
     "output_type": "stream",
     "text": [
      "Message(id='msg_01DQ4DMtJHByLMNDWJQViDy8', content=[ToolUseBlock(id='toolu_019zyX6uXuSJgV95YVG6Fkr7', input={'steps': [{'image_title': 'Prerequisites for CS 122A/EECS 116', 'image_description': 'The explicit prerequisite for this course is ICS 33 (with grade C or higher) OR EECS 114. Based on the course content which includes database design, SQL, and relational algebra, students should have a solid foundation in programming concepts and data structures which these prerequisites provide. The course feeds into more advanced database courses like CS122B, CS122C/CS222, and CS122D, but these are not prerequisites.'}]}, name='build_description_result', type='tool_use')], model='claude-3-5-sonnet-20241022', role='assistant', stop_reason='tool_use', stop_sequence=None, type='message', usage=Usage(cache_creation_input_tokens=0, cache_read_input_tokens=0, input_tokens=3939, output_tokens=158))\n"
     ]
    }
   ],
   "source": [
    "\n",
    "message = client.messages.create(\n",
    "    model=\"claude-3-5-sonnet-20241022\",\n",
    "    max_tokens=8192,\n",
    "    temperature=0,\n",
    "    messages=[\n",
    "        {\n",
    "            \"role\": \"user\",\n",
    "            \"content\": [\n",
    "                {\n",
    "                    \"type\": \"text\",\n",
    "                    \"text\": \"The following is a PDF syllabus document converted using aryn docparse. Please ingest the information of the course, and only return likely or defined prerequisites to ensure the student is prepared for the content of the class.\"\n",
    "    f\"{formatted_content}\\n\\n\"\n",
    "                }\n",
    "            ],\n",
    "        }\n",
    "    ],\n",
    "        tools=tools,\n",
    "        tool_choice={\"type\": \"tool\", \"name\": \"build_description_result\"}\n",
    "\n",
    ")\n",
    "print(message)\n"
   ],
   "metadata": {
    "collapsed": false,
    "ExecuteTime": {
     "end_time": "2025-01-12T01:27:18.725374Z",
     "start_time": "2025-01-12T01:27:14.651325Z"
    }
   },
   "id": "aee4dadf17c891e2",
   "execution_count": 13
  },
  {
   "cell_type": "code",
   "outputs": [
    {
     "name": "stdout",
     "output_type": "stream",
     "text": [
      "Prerequisites for CS 122A/EECS 116: \n",
      "The explicit prerequisite for this course is ICS 33 (with grade C or higher) OR EECS 114. Based on the course content which includes database design, SQL, and relational algebra, students should have a solid foundation in programming concepts and data structures which these prerequisites provide. The course feeds into more advanced database courses like CS122B, CS122C/CS222, and CS122D, but these are not prerequisites.\n"
     ]
    }
   ],
   "source": [
    "\n",
    "out = json.dumps(message.content[0].input['steps'], indent=4)\n",
    "\n",
    "\n",
    "def printout(jsonin):\n",
    "    json_data = json.loads(jsonin)\n",
    "\n",
    "    for dic in json_data:\n",
    "        print(f\"{dic['image_title']}: \\n{dic['image_description']}\\n\")\n",
    "\n",
    "\n",
    "printout(out)"
   ],
   "metadata": {
    "collapsed": false,
    "ExecuteTime": {
     "end_time": "2025-01-12T01:27:18.730993Z",
     "start_time": "2025-01-12T01:27:18.727498Z"
    }
   },
   "id": "b27ebdcd06d4e40d",
   "execution_count": 14
  },
  {
   "cell_type": "code",
   "outputs": [],
   "source": [],
   "metadata": {
    "collapsed": false,
    "ExecuteTime": {
     "end_time": "2025-01-12T01:27:18.734822Z",
     "start_time": "2025-01-12T01:27:18.732108Z"
    }
   },
   "id": "bfc29035e5d14f17",
   "execution_count": 14
  }
 ],
 "metadata": {
  "kernelspec": {
   "display_name": "Python 3",
   "language": "python",
   "name": "python3"
  },
  "language_info": {
   "codemirror_mode": {
    "name": "ipython",
    "version": 2
   },
   "file_extension": ".py",
   "mimetype": "text/x-python",
   "name": "python",
   "nbconvert_exporter": "python",
   "pygments_lexer": "ipython2",
   "version": "2.7.6"
  }
 },
 "nbformat": 4,
 "nbformat_minor": 5
}
